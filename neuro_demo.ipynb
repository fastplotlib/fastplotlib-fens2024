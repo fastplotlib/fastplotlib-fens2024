{
 "cells": [
  {
   "cell_type": "markdown",
   "id": "1f56fce4-bfa1-412c-89fb-8ff4d347e1df",
   "metadata": {},
   "source": [
    "# Neuroscience using `fastplotlib` and `pynapple`"
   ]
  },
  {
   "cell_type": "markdown",
   "id": "1ae96ab1-8885-4cb3-a955-916da0631798",
   "metadata": {},
   "source": [
    "This notebook will build up a complex visualization using `fastplotlib`, in conjunction with `pynapple`, to show how `fastplotlib` can be a powerful tool in analysis and visualization of neural data!"
   ]
  },
  {
   "cell_type": "code",
   "execution_count": 1,
   "id": "39f565c2-2bcf-44f9-89c2-db06c6202e74",
   "metadata": {},
   "outputs": [],
   "source": [
    "import warnings\n",
    "warnings.simplefilter('ignore')"
   ]
  },
  {
   "cell_type": "code",
   "execution_count": 2,
   "id": "e18cb0c6-5abb-484f-926e-9e8279135a0a",
   "metadata": {},
   "outputs": [
    {
     "name": "stdout",
     "output_type": "stream",
     "text": [
      "Requirement already satisfied: scikit-image in /home/caitlin/venvs/fpl/lib/python3.11/site-packages (0.23.2)\n",
      "Requirement already satisfied: numpy>=1.23 in /home/caitlin/venvs/fpl/lib/python3.11/site-packages (from scikit-image) (1.26.4)\n",
      "Requirement already satisfied: scipy>=1.9 in /home/caitlin/venvs/fpl/lib/python3.11/site-packages (from scikit-image) (1.13.1)\n",
      "Requirement already satisfied: networkx>=2.8 in /home/caitlin/venvs/fpl/lib/python3.11/site-packages (from scikit-image) (3.3)\n",
      "Requirement already satisfied: pillow>=9.1 in /home/caitlin/venvs/fpl/lib/python3.11/site-packages (from scikit-image) (10.3.0)\n",
      "Requirement already satisfied: imageio>=2.33 in /home/caitlin/venvs/fpl/lib/python3.11/site-packages (from scikit-image) (2.34.1)\n",
      "Requirement already satisfied: tifffile>=2022.8.12 in /home/caitlin/venvs/fpl/lib/python3.11/site-packages (from scikit-image) (2024.5.22)\n",
      "Requirement already satisfied: packaging>=21 in /home/caitlin/venvs/fpl/lib/python3.11/site-packages (from scikit-image) (24.1)\n",
      "Requirement already satisfied: lazy-loader>=0.4 in /home/caitlin/venvs/fpl/lib/python3.11/site-packages (from scikit-image) (0.4)\n"
     ]
    }
   ],
   "source": [
    "# if not installed, will need a function from scikit-image\n",
    "! pip install scikit-image"
   ]
  },
  {
   "cell_type": "code",
   "execution_count": 3,
   "id": "99751d32-4ec7-4555-ab6d-b2926ba0f27b",
   "metadata": {},
   "outputs": [
    {
     "data": {
      "application/vnd.jupyter.widget-view+json": {
       "model_id": "acd2a1768ec24dc5af105cbf21b73b6d",
       "version_major": 2,
       "version_minor": 0
      },
      "text/plain": [
       "Image(value=b'\\x89PNG\\r\\n\\x1a\\n\\x00\\x00\\x00\\rIHDR\\x00\\x00\\x01,\\x00\\x00\\x007\\x08\\x06\\x00\\x00\\x00\\xb6\\x1bw\\x99\\x…"
      ]
     },
     "metadata": {},
     "output_type": "display_data"
    },
    {
     "name": "stderr",
     "output_type": "stream",
     "text": [
      "MESA-INTEL: warning: cannot initialize blitter engine\n",
      "Detected skylake derivative running on mesa i915. Clears to srgb textures will use manual shader clears.\n",
      "Detected skylake derivative running on mesa i915. Clears to srgb textures will use manual shader clears.\n",
      "Detected skylake derivative running on mesa i915. Clears to srgb textures will use manual shader clears.\n",
      "Detected skylake derivative running on mesa i915. Clears to srgb textures will use manual shader clears.\n",
      "Detected skylake derivative running on mesa i915. Clears to srgb textures will use manual shader clears.\n"
     ]
    },
    {
     "name": "stdout",
     "output_type": "stream",
     "text": [
      "Available devices:\n",
      "🯄 (default) | Intel(R) Arc(tm) Graphics (MTL) | IntegratedGPU | Vulkan | Mesa 24.0.8-1\n",
      "❗ | llvmpipe (LLVM 17.0.6, 256 bits) | CPU | Vulkan | Mesa 24.0.8-1 (LLVM 17.0.6)\n",
      "❗ | Mesa Intel(R) Arc(tm) Graphics (MTL) | IntegratedGPU | OpenGL | \n"
     ]
    }
   ],
   "source": [
    "import fastplotlib as fpl\n",
    "import pynapple as nap\n",
    "import numpy as np\n",
    "from ipywidgets import IntSlider, Layout, VBox, HBox, FloatSlider\n",
    "from skimage import measure\n",
    "from sidecar import Sidecar"
   ]
  },
  {
   "cell_type": "code",
   "execution_count": 4,
   "id": "07dc162a-980d-4961-a3db-47b67646a083",
   "metadata": {},
   "outputs": [],
   "source": [
    "import warnings\n",
    "warnings.simplefilter('ignore')"
   ]
  },
  {
   "cell_type": "markdown",
   "id": "7ca263fa-c81a-4d01-858c-f47e4df567df",
   "metadata": {},
   "source": [
    "## Load the data "
   ]
  },
  {
   "cell_type": "markdown",
   "id": "28a4e081-8d3e-4f75-8b0c-114b9264ac2b",
   "metadata": {},
   "source": [
    "#### Recording of a freely-moving mouse imaged with a Miniscope (1-photon imaging). The area recorded is the postsubiculum - a region that is known to contain head-direction cells, or cells that fire when the animal's head is pointing in a specific direction. "
   ]
  },
  {
   "cell_type": "code",
   "execution_count": 62,
   "id": "d615ea13-18ec-47a0-8e46-caa71c23b3d2",
   "metadata": {},
   "outputs": [],
   "source": [
    "data = nap.load_file(\"./data.nwb\")"
   ]
  },
  {
   "cell_type": "code",
   "execution_count": 63,
   "id": "41a3eabe-c5f9-42dc-9bee-f54d700a01da",
   "metadata": {},
   "outputs": [
    {
     "data": {
      "text/plain": [
       "data\n",
       "┍━━━━━━━━━━━━━━━━━━━━━━━┯━━━━━━━━━━━━━┑\n",
       "│ Keys                  │ Type        │\n",
       "┝━━━━━━━━━━━━━━━━━━━━━━━┿━━━━━━━━━━━━━┥\n",
       "│ position_time_support │ IntervalSet │\n",
       "│ RoiResponseSeries     │ TsdFrame    │\n",
       "│ calcium_video         │ TsdTensor   │\n",
       "│ beh_video             │ TsdTensor   │\n",
       "│ z                     │ Tsd         │\n",
       "│ y                     │ Tsd         │\n",
       "│ x                     │ Tsd         │\n",
       "│ rz                    │ Tsd         │\n",
       "│ ry                    │ Tsd         │\n",
       "│ rx                    │ Tsd         │\n",
       "┕━━━━━━━━━━━━━━━━━━━━━━━┷━━━━━━━━━━━━━┙"
      ]
     },
     "execution_count": 63,
     "metadata": {},
     "output_type": "execute_result"
    }
   ],
   "source": [
    "data"
   ]
  },
  {
   "cell_type": "markdown",
   "id": "f8e6f965-599b-4c70-a16d-aeb1737d5a60",
   "metadata": {},
   "source": [
    "### Let's view the behavior and calcium data"
   ]
  },
  {
   "cell_type": "markdown",
   "id": "be7e1aaa-3ab4-45c3-ae71-634a03699d2f",
   "metadata": {},
   "source": [
    "Hopefully, by the end of the summer we will have developed a tool ([`pynaviz`](https://github.com/pynapple-org/pynaviz)) that makes these visualizations and synchronizations even easier :D"
   ]
  },
  {
   "cell_type": "code",
   "execution_count": 7,
   "id": "30532af5-d92b-414a-a7f7-2ee38d98e17e",
   "metadata": {},
   "outputs": [
    {
     "data": {
      "text/plain": [
       "(9045, 204, 256)"
      ]
     },
     "execution_count": 7,
     "metadata": {},
     "output_type": "execute_result"
    }
   ],
   "source": [
    "# behavior shape\n",
    "behavior_data = data[\"beh_video\"]\n",
    "behavior_data.shape"
   ]
  },
  {
   "cell_type": "code",
   "execution_count": 8,
   "id": "c318349d-4987-461d-8851-a1fe8b6ef2b8",
   "metadata": {},
   "outputs": [
    {
     "data": {
      "text/plain": [
       "(17886, 136, 166)"
      ]
     },
     "execution_count": 8,
     "metadata": {},
     "output_type": "execute_result"
    }
   ],
   "source": [
    "# calcium shape\n",
    "calcium_data = data[\"calcium_video\"]\n",
    "calcium_data.shape"
   ]
  },
  {
   "cell_type": "markdown",
   "id": "f2c9c30e-a5cf-4d69-a268-0c9acc9aa3f6",
   "metadata": {},
   "source": [
    "#### We are going to minimize our view of the data to where both behavior and position data are available:"
   ]
  },
  {
   "cell_type": "code",
   "execution_count": 9,
   "id": "0f2e6aca-a89c-403a-b2d3-fc920410cc37",
   "metadata": {},
   "outputs": [
    {
     "data": {
      "text/plain": [
       "(7.39305, 1213.22765)"
      ]
     },
     "execution_count": 9,
     "metadata": {},
     "output_type": "execute_result"
    }
   ],
   "source": [
    "frame_min = data[\"position_time_support\"][\"start\"][0]\n",
    "frame_max = data[\"position_time_support\"][\"end\"][0]\n",
    "(frame_min, frame_max)"
   ]
  },
  {
   "cell_type": "markdown",
   "id": "f033e35d-a876-44d0-80bb-fda55d65f3dc",
   "metadata": {},
   "source": [
    "### Create a plot for calcium and behavior video"
   ]
  },
  {
   "cell_type": "code",
   "execution_count": 10,
   "id": "2426251c-8fbf-4e6f-99a6-29a6e36720c8",
   "metadata": {},
   "outputs": [
    {
     "data": {
      "application/vnd.jupyter.widget-view+json": {
       "model_id": "bebc1c438cb54c0f9567f2070cec14fe",
       "version_major": 2,
       "version_minor": 0
      },
      "text/plain": [
       "RFBOutputContext()"
      ]
     },
     "metadata": {},
     "output_type": "display_data"
    },
    {
     "name": "stderr",
     "output_type": "stream",
     "text": [
      "Detected skylake derivative running on mesa i915. Clears to srgb textures will use manual shader clears.\n"
     ]
    },
    {
     "data": {
      "text/plain": [
       "<weakproxy at 0x7feec9118c70 to ImageGraphic at 0x7feed7d2cd10>"
      ]
     },
     "execution_count": 10,
     "metadata": {},
     "output_type": "execute_result"
    }
   ],
   "source": [
    "nap_figure = fpl.Figure(shape=(1,2), names=[[\"raw\", \"behavior\"]])\n",
    "\n",
    "nap_figure[\"raw\"].add_image(data=calcium_data[0], name=\"raw_frame\", cmap=\"viridis\")\n",
    "nap_figure[\"behavior\"].add_image(data=behavior_data[0], cmap=\"gray\")"
   ]
  },
  {
   "cell_type": "markdown",
   "id": "1f5c4e78-868c-4e01-aa8b-9ddd8ab81733",
   "metadata": {},
   "source": [
    "#### Create a slider that updates behavior and calcium videos so they are aligned"
   ]
  },
  {
   "cell_type": "code",
   "execution_count": 11,
   "id": "bf762a1c-1d15-4bef-82ef-218872c5208f",
   "metadata": {},
   "outputs": [],
   "source": [
    "# This time will be in milliseconds\n",
    "synced_time = FloatSlider(min=frame_min, max=frame_max, step=0.1, description=\"s\", layout=Layout(width=\"60%\"))\n",
    "\n",
    "def update_time(change):\n",
    "    # get the index of synced slider\n",
    "    time_s = change[\"new\"]\n",
    "    # get the corresponding calcium frame from the pynapple tensor\n",
    "    frame_raw = calcium_data.get(time_s, time_units=\"s\")\n",
    "    # update the data in the plot\n",
    "    nap_figure[\"raw\"].graphics[0].data = frame_raw\n",
    "    # get the corresponding behavior frame from the pynapple tensor\n",
    "    frame_behavior = behavior_data.get(time_s, time_units=\"s\")\n",
    "    # update the data in the plot\n",
    "    nap_figure[\"behavior\"].graphics[0].data = frame_behavior\n",
    "    \n",
    "synced_time.observe(update_time, \"value\")"
   ]
  },
  {
   "cell_type": "code",
   "execution_count": 12,
   "id": "d8cc4e61-ef19-4ea0-abef-d421ec83a782",
   "metadata": {},
   "outputs": [],
   "source": [
    "sc = Sidecar()\n",
    "with sc:\n",
    "    display(VBox([nap_figure.show(), synced_time]))"
   ]
  },
  {
   "cell_type": "code",
   "execution_count": 13,
   "id": "b85e77f2-14b0-4d7c-860f-197ac213dc87",
   "metadata": {},
   "outputs": [],
   "source": [
    "# manually set the vmin/vmax of the calcium data\n",
    "nap_figure[\"raw\"][\"raw_frame\"].vmax = 205\n",
    "nap_figure[\"raw\"][\"raw_frame\"].vmin = 25"
   ]
  },
  {
   "cell_type": "markdown",
   "id": "de735f84-f8e6-4a28-9e83-817ab149cf33",
   "metadata": {},
   "source": [
    "#### Calculate the contours and overlay them on the raw calcium data"
   ]
  },
  {
   "cell_type": "code",
   "execution_count": 14,
   "id": "8e8408cc-da72-4bdb-a3c2-8668dfaf2ef8",
   "metadata": {},
   "outputs": [],
   "source": [
    "# get the masks\n",
    "contour_masks = data.nwb.processing['ophys']['ImageSegmentation']['PlaneSegmentation']['image_mask'].data[:]\n",
    "# reshape the masks into a list of 105 components\n",
    "contour_masks = list(contour_masks.reshape((len(contour_masks), 166, 136)))"
   ]
  },
  {
   "cell_type": "code",
   "execution_count": 15,
   "id": "a809353a-cd85-4acd-99a5-2dfc4d7fb8e8",
   "metadata": {},
   "outputs": [],
   "source": [
    "# create a list of the contours\n",
    "contours = list()\n",
    "# calculate each contour from the mask\n",
    "for mask in contour_masks:\n",
    "    contours.append(np.vstack(measure.find_contours(mask)))"
   ]
  },
  {
   "cell_type": "markdown",
   "id": "274746a1-d8a7-48f4-971a-cd94d2ba1f26",
   "metadata": {},
   "source": [
    "#### Add the calculated contours as an overlay to the calcium video"
   ]
  },
  {
   "cell_type": "code",
   "execution_count": 16,
   "id": "57bb7592-7996-469e-accd-bc57927dbf0e",
   "metadata": {},
   "outputs": [],
   "source": [
    "contours_graphic = nap_figure[\"raw\"].add_line_collection(data=contours, colors=\"w\")"
   ]
  },
  {
   "cell_type": "markdown",
   "id": "b98007c3-4945-4fed-9309-aa67661d783a",
   "metadata": {},
   "source": [
    "### Select only head-direction neurons"
   ]
  },
  {
   "cell_type": "code",
   "execution_count": 17,
   "id": "7a2ee68e-3ed7-467c-ba6c-d0ac051df380",
   "metadata": {},
   "outputs": [
    {
     "data": {
      "text/plain": [
       "Time (s)           0        1        2        3        4  ...\n",
       "-----------  -------  -------  -------  -------  -------  -----\n",
       "0.0          0        0.43582  2.96331  0        0        ...\n",
       "0.033333     0        0.43406  2.95294  0        0        ...\n",
       "0.066667     0        0.43231  2.9426   0        0        ...\n",
       "0.1          0        0.43057  2.93231  0        0        ...\n",
       "0.133333     0        0.42883  2.92205  0        0        ...\n",
       "0.166667     0        0.4271   2.91182  0        0        ...\n",
       "0.2          0        0.42537  2.90163  0        0        ...\n",
       "...\n",
       "1192.166667  2.54202  0.14531  0.44013  0.5681   0.65477  ...\n",
       "1192.2       2.53029  0.14775  0.43842  0.56657  0.65227  ...\n",
       "1192.233333  2.51861  0.14962  0.43671  0.56505  0.64979  ...\n",
       "1192.266667  2.50698  0.15104  0.435    0.56354  0.64731  ...\n",
       "1192.3       2.49541  0.15209  0.43331  0.56202  0.64485  ...\n",
       "1192.333333  2.48389  0.15283  0.43162  0.58476  0.64239  ...\n",
       "1192.366667  2.47242  0.15333  0.42994  0.62802  0.63994  ...\n",
       "dtype: float64, shape: (35772, 105)"
      ]
     },
     "execution_count": 17,
     "metadata": {},
     "output_type": "execute_result"
    }
   ],
   "source": [
    "# get the temporal data from the nwb notebook\n",
    "temporal_data = data[\"RoiResponseSeries\"][:]\n",
    "temporal_data"
   ]
  },
  {
   "cell_type": "code",
   "execution_count": 18,
   "id": "7b7a10cc-fe5c-41e7-87d5-29dcb2f522b4",
   "metadata": {},
   "outputs": [],
   "source": [
    "# compute 1D tuning curved based on head angle\n",
    "angle = data[\"ry\"]\n",
    "\n",
    "tuning_curves = nap.compute_1d_tuning_curves_continuous(temporal_data, angle, nb_bins = 120)"
   ]
  },
  {
   "cell_type": "code",
   "execution_count": 19,
   "id": "5b654537-f5f4-4117-b53b-a8f023428cda",
   "metadata": {},
   "outputs": [],
   "source": [
    "# select good components \n",
    "good_ixs = list(np.argsort(np.ptp(tuning_curves, axis=0))[-50:])\n",
    "bad_ixs = list(np.argsort(np.ptp(tuning_curves, axis=0))[:-50])"
   ]
  },
  {
   "cell_type": "code",
   "execution_count": 20,
   "id": "5da1a757-ea92-4ba7-957f-d822d3d9a5a2",
   "metadata": {},
   "outputs": [],
   "source": [
    "contours_graphic[good_ixs].colors = \"green\"\n",
    "contours_graphic[bad_ixs].colors = \"red\""
   ]
  },
  {
   "cell_type": "markdown",
   "id": "f763b64c-5695-46b8-be72-aa0eea01f165",
   "metadata": {},
   "source": [
    "### Remove the \"bad\" neurons"
   ]
  },
  {
   "cell_type": "code",
   "execution_count": 21,
   "id": "972ce762-5173-44ca-b938-13f3f4c5b228",
   "metadata": {},
   "outputs": [],
   "source": [
    "# sorting neurons based on preferred directions\n",
    "sorted_ixs = tuning_curves.iloc[:,good_ixs].idxmax().sort_values().index.values"
   ]
  },
  {
   "cell_type": "code",
   "execution_count": 22,
   "id": "d9714bbb-fde3-4d46-aebf-d42b5ed38de6",
   "metadata": {},
   "outputs": [
    {
     "data": {
      "text/plain": [
       "array([75, 34, 77, 86, 21, 16,  6,  4, 58, 44, 14, 33, 94, 98, 90, 76,  7,\n",
       "        5, 82, 28, 15, 88, 45, 39,  0,  8, 20, 13, 24, 60, 18, 27, 10, 78,\n",
       "        2, 85,  3, 19, 38, 17, 30, 29, 25, 84, 12, 26, 41,  9, 11,  1])"
      ]
     },
     "execution_count": 22,
     "metadata": {},
     "output_type": "execute_result"
    }
   ],
   "source": [
    "sorted_ixs"
   ]
  },
  {
   "cell_type": "code",
   "execution_count": 23,
   "id": "b8ab6db5-6f1d-43e4-bad4-49922a50c298",
   "metadata": {},
   "outputs": [],
   "source": [
    "# filter dataset based on sortex indices\n",
    "temporal_data = temporal_data[:,sorted_ixs]\n",
    "contours = [contours[i] for i in sorted_ixs]"
   ]
  },
  {
   "cell_type": "code",
   "execution_count": 24,
   "id": "823940d0-76d1-4e72-89ab-389d3b0fa9ce",
   "metadata": {},
   "outputs": [
    {
     "data": {
      "text/plain": [
       "<weakproxy at 0x7feebd241d00 to LineCollection at 0x7feebc6481d0>"
      ]
     },
     "execution_count": 24,
     "metadata": {},
     "output_type": "execute_result"
    }
   ],
   "source": [
    "# only plot the good indices \n",
    "nap_figure[0,0].remove_graphic(nap_figure[0,0].graphics[1])\n",
    "nap_figure[0,0].add_line_collection(data=contours, colors=\"g\")"
   ]
  },
  {
   "cell_type": "markdown",
   "id": "2ddd8810-2fc9-49fc-9d59-283f2d9918fc",
   "metadata": {},
   "source": [
    "## Make a plot of the calcium traces as a `LineStack`"
   ]
  },
  {
   "cell_type": "code",
   "execution_count": 25,
   "id": "2609b04d-f1c0-4b8d-ac1c-b6f7396d9801",
   "metadata": {},
   "outputs": [
    {
     "data": {
      "application/vnd.jupyter.widget-view+json": {
       "model_id": "2bc5c884222e40838f2f861b9893b1be",
       "version_major": 2,
       "version_minor": 0
      },
      "text/plain": [
       "RFBOutputContext()"
      ]
     },
     "metadata": {},
     "output_type": "display_data"
    }
   ],
   "source": [
    "# create a figure\n",
    "tstack_fig = fpl.Figure()"
   ]
  },
  {
   "cell_type": "code",
   "execution_count": 26,
   "id": "18565a01-148c-4a66-a951-b8b6b6722419",
   "metadata": {},
   "outputs": [],
   "source": [
    "# we need to transpose our temporal data so that it is (# components, time (s))\n",
    "raw_temporal = temporal_data.to_numpy().T\n",
    "\n",
    "tstack_graphic = tstack_fig[0,0].add_line_stack(data=raw_temporal, cmap=\"hsv\", name=\"temporal-stack\")"
   ]
  },
  {
   "cell_type": "markdown",
   "id": "baad6d2b-f5ac-45df-b5da-04ecc49acb8a",
   "metadata": {},
   "source": [
    "#### Add a `LinearSelector` that we can map to our behavior and calcium videos"
   ]
  },
  {
   "cell_type": "code",
   "execution_count": 27,
   "id": "e18195e6-8aeb-45bf-9da4-b08089a85e60",
   "metadata": {},
   "outputs": [],
   "source": [
    "tstack_slider = tstack_graphic.add_linear_selector()"
   ]
  },
  {
   "cell_type": "code",
   "execution_count": 28,
   "id": "2a4b7bcc-096e-4b70-bbdb-448be1b33c7c",
   "metadata": {},
   "outputs": [
    {
     "data": {
      "application/vnd.jupyter.widget-view+json": {
       "model_id": "33c74f077205407e881014303f160e39",
       "version_major": 2,
       "version_minor": 0
      },
      "text/plain": [
       "JupyterOutputContext(children=(JupyterWgpuCanvas(), IpywidgetToolBar(children=(Button(icon='expand-arrows-alt'…"
      ]
     },
     "execution_count": 28,
     "metadata": {},
     "output_type": "execute_result"
    }
   ],
   "source": [
    "tstack_fig.show(maintain_aspect=False)"
   ]
  },
  {
   "cell_type": "markdown",
   "id": "32f05422-5ccc-4452-bce0-b4b049a21e24",
   "metadata": {},
   "source": [
    "#### Add another function to update the position of the `LinearSelector` based on the position of our `IntSlider` from before"
   ]
  },
  {
   "cell_type": "code",
   "execution_count": 29,
   "id": "91f3d7ad-806d-4d1b-aac9-9dc40a862389",
   "metadata": {},
   "outputs": [],
   "source": [
    "def update_time_temporal(change):\n",
    "    # get the index of synced slider\n",
    "    time_s = change[\"new\"]\n",
    "\n",
    "    # temporal data has framerate 30\n",
    "    tstack_slider.selection = time_s * 30\n",
    "\n",
    "synced_time.observe(update_time_temporal, \"value\")"
   ]
  },
  {
   "cell_type": "markdown",
   "id": "bc000b09-0b2d-4274-866a-609840189f32",
   "metadata": {},
   "source": [
    "#### Let's view everything together"
   ]
  },
  {
   "cell_type": "code",
   "execution_count": 30,
   "id": "3854949e-91c1-4900-9277-b8be495ef0ff",
   "metadata": {},
   "outputs": [
    {
     "data": {
      "application/vnd.jupyter.widget-view+json": {
       "model_id": "c1ead0bcee6545b0a11074d0160e3358",
       "version_major": 2,
       "version_minor": 0
      },
      "text/plain": [
       "VBox(children=(JupyterOutputContext(children=(JupyterWgpuCanvas(frame_feedback={'index': 264, 'timestamp': 171…"
      ]
     },
     "execution_count": 30,
     "metadata": {},
     "output_type": "execute_result"
    }
   ],
   "source": [
    "VBox([nap_figure.show(), tstack_fig.show(maintain_aspect=False), synced_time])"
   ]
  },
  {
   "cell_type": "markdown",
   "id": "96e9a854-d41f-4ffa-95db-46e2c6d3d0e3",
   "metadata": {},
   "source": [
    "### Let's make a plot so we can individually view our traces and easily scroll through them"
   ]
  },
  {
   "cell_type": "code",
   "execution_count": 33,
   "id": "7d122859-612a-453d-a4cc-c3f477923257",
   "metadata": {},
   "outputs": [
    {
     "data": {
      "application/vnd.jupyter.widget-view+json": {
       "model_id": "9e001a52f6cb4e0eb48315d1fdcb4ce6",
       "version_major": 2,
       "version_minor": 0
      },
      "text/plain": [
       "RFBOutputContext()"
      ]
     },
     "metadata": {},
     "output_type": "display_data"
    }
   ],
   "source": [
    "single_temporal = fpl.Figure()"
   ]
  },
  {
   "cell_type": "code",
   "execution_count": 34,
   "id": "09f155fe-e6bc-42af-b507-ef0db074531b",
   "metadata": {},
   "outputs": [
    {
     "data": {
      "text/plain": [
       "<weakproxy at 0x7feebc12f8d0 to LineGraphic at 0x7feebb0e3750>"
      ]
     },
     "execution_count": 34,
     "metadata": {},
     "output_type": "execute_result"
    }
   ],
   "source": [
    "# select the first component to start\n",
    "ix = 0\n",
    "# set the colors of the first component to magenta\n",
    "tstack_graphic.graphics[ix].colors = \"white\"\n",
    "# add the data of the first component as a line\n",
    "single_temporal[0,0].add_line(data=tstack_graphic.graphics[ix].data.value, colors=\"white\")"
   ]
  },
  {
   "cell_type": "code",
   "execution_count": 35,
   "id": "6356e671-d037-499d-a064-00d9959840f9",
   "metadata": {},
   "outputs": [
    {
     "data": {
      "application/vnd.jupyter.widget-view+json": {
       "model_id": "66e4b7c904ef451496c82bbd9bbd7f65",
       "version_major": 2,
       "version_minor": 0
      },
      "text/plain": [
       "JupyterOutputContext(children=(JupyterWgpuCanvas(), IpywidgetToolBar(children=(Button(icon='expand-arrows-alt'…"
      ]
     },
     "execution_count": 35,
     "metadata": {},
     "output_type": "execute_result"
    }
   ],
   "source": [
    "single_temporal.show(maintain_aspect=False)"
   ]
  },
  {
   "cell_type": "markdown",
   "id": "bce184bc-c8c2-4ee6-bfb7-5a19495889ee",
   "metadata": {},
   "source": [
    "#### Now, let's add an event handler to update the individual trace based on a selected component"
   ]
  },
  {
   "cell_type": "code",
   "execution_count": 22,
   "id": "5967a585-9bca-468d-b43f-c8f62c542837",
   "metadata": {},
   "outputs": [],
   "source": [
    "@tstack_fig.renderer.add_event_handler(\"key_up\")\n",
    "def update_selected_trace(ev):\n",
    "    global ix\n",
    "    if ev.key == \"ArrowUp\":\n",
    "        # increment ix\n",
    "        ix += 1\n",
    "        # check for looping\n",
    "        if ix == len(tstack_graphic.graphics):\n",
    "            ix = 0\n",
    "        # reset the colors to white\n",
    "        tstack_graphic.colors = \"w\"\n",
    "        # update colors of selected component\n",
    "        tstack_graphic.graphics[ix].colors = \"magenta\"\n",
    "        # update single component data\n",
    "        single_temporal[0,0].graphics[0].data = tstack_graphic.graphics[ix].data.value\n",
    "        single_temporal[0,0].auto_scale()\n",
    "    if ev.key == \"ArrowDown\":\n",
    "        # decrement ix\n",
    "        ix -= 1\n",
    "        # check for looping\n",
    "        if ix < 0:\n",
    "            ix = len(temporal_graphic.graphics) - 1\n",
    "        # reset colors of temporal stack\n",
    "        tstack_graphic.colors = \"w\"\n",
    "        # update colors of selected component\n",
    "        tstack_graphic.graphics[ix].colors = \"magenta\"\n",
    "        # update date of selected component \n",
    "        single_temporal[0,0].graphics[0].data = tstack.graphics[ix].data.value\n",
    "        single_temporal[0,0].auto_scale()"
   ]
  },
  {
   "cell_type": "markdown",
   "id": "d0db1be6-c53b-427c-af55-74ac09b880e6",
   "metadata": {},
   "source": [
    "### We can again add a `LinearSelector` and link it to our calcium and behavior data "
   ]
  },
  {
   "cell_type": "code",
   "execution_count": 23,
   "id": "be3b9055-81dd-443e-b295-766f4ef2ece9",
   "metadata": {},
   "outputs": [],
   "source": [
    "single_selector = single_temporal[0,0].graphics[0].add_linear_selector()"
   ]
  },
  {
   "cell_type": "code",
   "execution_count": 24,
   "id": "f812d4d7-db1a-460a-a9c1-dcca5b463765",
   "metadata": {},
   "outputs": [],
   "source": [
    "def update_selector(change):\n",
    "    # get the index of synced slider\n",
    "    time_s = change[\"new\"]\n",
    "\n",
    "    # temporal data has framerate 30\n",
    "    single_selector.selection = time_s * 30"
   ]
  },
  {
   "cell_type": "code",
   "execution_count": 25,
   "id": "357436df-599f-414e-9fb2-eb8227fe25d7",
   "metadata": {},
   "outputs": [],
   "source": [
    "synced_time.observe(update_selector, \"value\")"
   ]
  },
  {
   "cell_type": "markdown",
   "id": "13f0d3c6-5456-4119-9add-4c7145c01b42",
   "metadata": {},
   "source": [
    "### Let's look at everything together again\n"
   ]
  },
  {
   "cell_type": "code",
   "execution_count": 26,
   "id": "bc6c5c4f-3a39-436c-bc03-b9b49c106917",
   "metadata": {},
   "outputs": [
    {
     "data": {
      "application/vnd.jupyter.widget-view+json": {
       "model_id": "e994bf65196545a1a709e3d2a72cd2bf",
       "version_major": 2,
       "version_minor": 0
      },
      "text/plain": [
       "VBox(children=(HBox(children=(JupyterOutputContext(children=(JupyterWgpuCanvas(frame_feedback={'index': 1784, …"
      ]
     },
     "execution_count": 26,
     "metadata": {},
     "output_type": "execute_result"
    }
   ],
   "source": [
    "VBox([HBox([nap_figure.show(),VBox([tstack_fig.show(),single_temporal.show()])]), synced_time])"
   ]
  },
  {
   "cell_type": "code",
   "execution_count": null,
   "id": "55f6d148-4acf-40e1-9cce-ffa5e2a00184",
   "metadata": {},
   "outputs": [],
   "source": [
    "# tuning curves \n",
    "# nemos examples"
   ]
  },
  {
   "cell_type": "code",
   "execution_count": null,
   "id": "c38dab8c-28a1-4ed7-8ccb-8050be4ec202",
   "metadata": {},
   "outputs": [],
   "source": [
    "# a circle, same color coding as angle of tuning curve \n",
    "# arrow that points to current heading "
   ]
  },
  {
   "cell_type": "code",
   "execution_count": null,
   "id": "9b28fa17-f4ef-4117-8774-be45e09e9a4a",
   "metadata": {},
   "outputs": [],
   "source": [
    "# position decoding?"
   ]
  },
  {
   "cell_type": "code",
   "execution_count": 93,
   "id": "c4cb7a14-34bb-4e30-afe1-09b6587320d6",
   "metadata": {},
   "outputs": [
    {
     "data": {
      "application/vnd.jupyter.widget-view+json": {
       "model_id": "0ff17fe76c37488586e496ec0fc3f5af",
       "version_major": 2,
       "version_minor": 0
      },
      "text/plain": [
       "RFBOutputContext()"
      ]
     },
     "metadata": {},
     "output_type": "display_data"
    }
   ],
   "source": [
    "tuning_fig = fpl.Figure()"
   ]
  },
  {
   "cell_type": "code",
   "execution_count": 94,
   "id": "3312425f-4770-4e79-950e-4e194783a64d",
   "metadata": {},
   "outputs": [],
   "source": [
    "def make_circle(center, radius: float, n_points: int = 75) -> np.ndarray:\n",
    "    theta = np.linspace(0, 2 * np.pi, n_points)\n",
    "    xs = radius * np.sin(theta)\n",
    "    ys = radius * np.cos(theta)\n",
    "\n",
    "    return np.column_stack([xs, ys]) + center"
   ]
  },
  {
   "cell_type": "code",
   "execution_count": 95,
   "id": "8b8c87be-08fe-422a-a8d5-0fa0bc596138",
   "metadata": {},
   "outputs": [],
   "source": [
    "circle = make_circle((0,0), 50, 100)"
   ]
  },
  {
   "cell_type": "code",
   "execution_count": 96,
   "id": "6eeaa47b-9c1b-484c-afee-0ba17fe418a3",
   "metadata": {},
   "outputs": [
    {
     "data": {
      "text/plain": [
       "Time (s)\n",
       "----------  -------\n",
       "7.39305     3.13103\n",
       "7.4014      3.15806\n",
       "7.40975     3.1809\n",
       "7.41805     3.20979\n",
       "7.4264      3.22044\n",
       "7.43475     3.2362\n",
       "7.44305     3.24883\n",
       "...\n",
       "1213.17765  5.46986\n",
       "1213.186    5.45224\n",
       "1213.19435  5.43446\n",
       "1213.20265  5.4239\n",
       "1213.211    5.42556\n",
       "1213.21935  5.43106\n",
       "1213.22765  5.44108\n",
       "dtype: float64, shape: (144709,)"
      ]
     },
     "execution_count": 96,
     "metadata": {},
     "output_type": "execute_result"
    }
   ],
   "source": [
    "data[\"ry\"]"
   ]
  },
  {
   "cell_type": "code",
   "execution_count": 97,
   "id": "d8ad1868-cc59-4bb4-81a5-07c585320d3b",
   "metadata": {},
   "outputs": [
    {
     "data": {
      "text/plain": [
       "<weakproxy at 0x7feead27d8a0 to LineGraphic at 0x7feeafc97a10>"
      ]
     },
     "execution_count": 97,
     "metadata": {},
     "output_type": "execute_result"
    }
   ],
   "source": [
    "tuning_fig[0,0].add_line(data=circle, cmap=\"hsv\", thickness=10)"
   ]
  },
  {
   "cell_type": "code",
   "execution_count": 98,
   "id": "f8c92fb3-a7fa-42ff-9d0f-40604576556c",
   "metadata": {},
   "outputs": [],
   "source": [
    "# start rotation 0-45"
   ]
  },
  {
   "cell_type": "code",
   "execution_count": 99,
   "id": "be25af32-acd2-4edb-91cc-d97ffe518513",
   "metadata": {},
   "outputs": [],
   "source": [
    "xs = np.linspace(0, 45, 10)"
   ]
  },
  {
   "cell_type": "code",
   "execution_count": 100,
   "id": "9cddd9a8-5346-482a-a386-209db0be494d",
   "metadata": {},
   "outputs": [],
   "source": [
    "ys = np.ones((1, 10))\n",
    "\n",
    "l_data = np.dstack((xs, ys))[0]"
   ]
  },
  {
   "cell_type": "code",
   "execution_count": 101,
   "id": "4140ee34-b74c-4d51-ab57-16e629568901",
   "metadata": {},
   "outputs": [],
   "source": [
    "line = tuning_fig[0,0].add_line(data=l_data, colors=\"w\", thickness=5)"
   ]
  },
  {
   "cell_type": "code",
   "execution_count": 104,
   "id": "da16412e-e820-435f-8813-48ed5b916d59",
   "metadata": {},
   "outputs": [
    {
     "data": {
      "application/vnd.jupyter.widget-view+json": {
       "model_id": "71e1744a782c465fa06bd9b6e1f09052",
       "version_major": 2,
       "version_minor": 0
      },
      "text/plain": [
       "JupyterOutputContext(children=(JupyterWgpuCanvas(), IpywidgetToolBar(children=(Button(icon='expand-arrows-alt'…"
      ]
     },
     "execution_count": 104,
     "metadata": {},
     "output_type": "execute_result"
    }
   ],
   "source": [
    "tuning_fig.show()"
   ]
  },
  {
   "cell_type": "code",
   "execution_count": 105,
   "id": "18ea04f1-ebaa-4ff8-974f-08ad187ca903",
   "metadata": {},
   "outputs": [],
   "source": [
    "import pylinalg as la"
   ]
  },
  {
   "cell_type": "code",
   "execution_count": 109,
   "id": "0b123164-43b9-45c7-bec5-b51a7765f86a",
   "metadata": {},
   "outputs": [],
   "source": [
    "rot = la.quat_from_euler((0, np.pi/4), order=\"YZ\")"
   ]
  },
  {
   "cell_type": "code",
   "execution_count": 110,
   "id": "befed069-ea6e-4957-b697-4e6072cc0320",
   "metadata": {},
   "outputs": [],
   "source": [
    "line.rotation = rot"
   ]
  },
  {
   "cell_type": "code",
   "execution_count": 111,
   "id": "a22e9604-1ad7-4145-9d0a-8ce9d9db448c",
   "metadata": {},
   "outputs": [
    {
     "data": {
      "text/plain": [
       "(144709,)"
      ]
     },
     "execution_count": 111,
     "metadata": {},
     "output_type": "execute_result"
    }
   ],
   "source": [
    "data[\"ry\"].shape"
   ]
  },
  {
   "cell_type": "code",
   "execution_count": 135,
   "id": "ea369358-f6ef-4381-aa23-08e51d4af505",
   "metadata": {},
   "outputs": [],
   "source": [
    "ry_line = np.vstack((data[\"ry\"].t, data[\"ry\"].d)).T"
   ]
  },
  {
   "cell_type": "code",
   "execution_count": 205,
   "id": "2cad76d3-19e9-4f96-9254-bd1423beb0b4",
   "metadata": {},
   "outputs": [],
   "source": [
    "xs = np.linspace(0, 100, 1200)\n",
    "ys = np.sin(xs)\n",
    "\n",
    "sine = np.dstack([xs, ys])[0]"
   ]
  },
  {
   "cell_type": "code",
   "execution_count": 206,
   "id": "0399d830-51b1-4932-a67d-fbe5a481a252",
   "metadata": {},
   "outputs": [
    {
     "data": {
      "application/vnd.jupyter.widget-view+json": {
       "model_id": "9b0b760f68014216a735552276e2ca1d",
       "version_major": 2,
       "version_minor": 0
      },
      "text/plain": [
       "RFBOutputContext()"
      ]
     },
     "metadata": {},
     "output_type": "display_data"
    },
    {
     "data": {
      "text/plain": [
       "<weakproxy at 0x7feea065bf10 to LineGraphic at 0x7feea0182810>"
      ]
     },
     "execution_count": 206,
     "metadata": {},
     "output_type": "execute_result"
    }
   ],
   "source": [
    "angle_fig = fpl.Figure(shape=(1,2))\n",
    "\n",
    "angle_line = angle_fig[0,0].add_line(sine)\n",
    "\n",
    "angle_selector = angle_line.add_linear_selector()\n",
    "\n",
    "angle_fig[0,1].add_line(data=circle, cmap=\"hsv\", thickness=10)\n",
    "angle_fig[0,1].add_line(data=l_data, colors=\"w\", thickness=5)"
   ]
  },
  {
   "cell_type": "code",
   "execution_count": 207,
   "id": "76cb7a59-8713-4792-b204-a8f251f149bd",
   "metadata": {},
   "outputs": [
    {
     "data": {
      "application/vnd.jupyter.widget-view+json": {
       "model_id": "b11a7165a2f545008224530f0fd4e65c",
       "version_major": 2,
       "version_minor": 0
      },
      "text/plain": [
       "VBox(children=(JupyterOutputContext(children=(JupyterWgpuCanvas(frame_feedback={'index': 42730, 'timestamp': 1…"
      ]
     },
     "execution_count": 207,
     "metadata": {},
     "output_type": "execute_result"
    }
   ],
   "source": [
    "VBox([nap_figure.show(), angle_fig.show(), synced_time])"
   ]
  },
  {
   "cell_type": "code",
   "execution_count": 208,
   "id": "bd119c68-5a78-4da7-b2aa-3ac5e4df067f",
   "metadata": {},
   "outputs": [],
   "source": [
    "def update_line(change):\n",
    "    t = change[\"new\"]\n",
    "\n",
    "    angle_selector.selection = t\n",
    "\n",
    "    ang = data[\"ry\"].get(t)\n",
    "\n",
    "    rotation = la.quat_from_euler((0, -ang), order=\"YZ\")\n",
    "    #rotation = lambda theta, hdangle: np.array([[np.cos(theta), np.sin(theta), 0], [np.sin(theta), np.cos(theta), 0],[0,0,1]).dot([np.cos(hdangle), np.sin(hdangle), 0])\n",
    "    \n",
    "    \n",
    "\n",
    "    angle_fig[0,1].graphics[1].rotation = rotation "
   ]
  },
  {
   "cell_type": "code",
   "execution_count": 209,
   "id": "aa825828-33b6-415c-9de6-03b165660057",
   "metadata": {},
   "outputs": [],
   "source": [
    "synced_time.observe(update_line, \"value\")"
   ]
  },
  {
   "cell_type": "code",
   "execution_count": null,
   "id": "8cf5ecc7-9b41-414d-925e-43277b0caec9",
   "metadata": {},
   "outputs": [],
   "source": []
  }
 ],
 "metadata": {
  "kernelspec": {
   "display_name": "Python 3 (ipykernel)",
   "language": "python",
   "name": "python3"
  },
  "language_info": {
   "codemirror_mode": {
    "name": "ipython",
    "version": 3
   },
   "file_extension": ".py",
   "mimetype": "text/x-python",
   "name": "python",
   "nbconvert_exporter": "python",
   "pygments_lexer": "ipython3",
   "version": "3.11.9"
  }
 },
 "nbformat": 4,
 "nbformat_minor": 5
}
