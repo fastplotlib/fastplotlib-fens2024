{
 "cells": [
  {
   "cell_type": "markdown",
   "id": "1f56fce4-bfa1-412c-89fb-8ff4d347e1df",
   "metadata": {},
   "source": [
    "# Neuroscience 🧠 using `fastplotlib` 🦜 and `pynapple` 🍍"
   ]
  },
  {
   "cell_type": "markdown",
   "id": "1ae96ab1-8885-4cb3-a955-916da0631798",
   "metadata": {},
   "source": [
    "This notebook will build up a complex visualization using `fastplotlib`, in conjunction with `pynapple`, to show how `fastplotlib` can be a powerful tool in analysis and visualization of neural data!"
   ]
  },
  {
   "cell_type": "code",
   "execution_count": 1,
   "id": "99751d32-4ec7-4555-ab6d-b2926ba0f27b",
   "metadata": {},
   "outputs": [
    {
     "data": {
      "application/vnd.jupyter.widget-view+json": {
       "model_id": "35e84ce94cc74423befd1016d8a50838",
       "version_major": 2,
       "version_minor": 0
      },
      "text/plain": [
       "Image(value=b'\\x89PNG\\r\\n\\x1a\\n\\x00\\x00\\x00\\rIHDR\\x00\\x00\\x01,\\x00\\x00\\x007\\x08\\x06\\x00\\x00\\x00\\xb6\\x1bw\\x99\\x…"
      ]
     },
     "metadata": {},
     "output_type": "display_data"
    },
    {
     "name": "stderr",
     "output_type": "stream",
     "text": [
      "MESA-INTEL: warning: cannot initialize blitter engine\n",
      "Detected skylake derivative running on mesa i915. Clears to srgb textures will use manual shader clears.\n",
      "Detected skylake derivative running on mesa i915. Clears to srgb textures will use manual shader clears.\n",
      "Detected skylake derivative running on mesa i915. Clears to srgb textures will use manual shader clears.\n",
      "Detected skylake derivative running on mesa i915. Clears to srgb textures will use manual shader clears.\n",
      "Detected skylake derivative running on mesa i915. Clears to srgb textures will use manual shader clears.\n"
     ]
    },
    {
     "name": "stdout",
     "output_type": "stream",
     "text": [
      "Available devices:\n",
      "🯄 (default) | Intel(R) Arc(tm) Graphics (MTL) | IntegratedGPU | Vulkan | Mesa 24.0.8-1\n",
      "❗ | llvmpipe (LLVM 17.0.6, 256 bits) | CPU | Vulkan | Mesa 24.0.8-1 (LLVM 17.0.6)\n",
      "❗ | Mesa Intel(R) Arc(tm) Graphics (MTL) | IntegratedGPU | OpenGL | \n"
     ]
    }
   ],
   "source": [
    "import fastplotlib as fpl\n",
    "import pynapple as nap\n",
    "import numpy as np\n",
    "from ipywidgets import IntSlider, Layout, VBox, HBox, FloatSlider\n",
    "from skimage import measure\n",
    "from sklearn.decomposition import PCA\n",
    "from sklearn.preprocessing import StandardScaler\n",
    "from scipy.ndimage import gaussian_filter1d\n",
    "from sidecar import Sidecar\n",
    "from time_store import TimeStore"
   ]
  },
  {
   "cell_type": "code",
   "execution_count": 2,
   "id": "03e1a4e1-43e8-491c-acb6-42a825914ad2",
   "metadata": {},
   "outputs": [],
   "source": [
    "import warnings\n",
    "warnings.simplefilter('ignore')\n",
    "fpl.config.party_parrot = True"
   ]
  },
  {
   "cell_type": "markdown",
   "id": "7ca263fa-c81a-4d01-858c-f47e4df567df",
   "metadata": {},
   "source": [
    "## Load the data "
   ]
  },
  {
   "cell_type": "markdown",
   "id": "28a4e081-8d3e-4f75-8b0c-114b9264ac2b",
   "metadata": {},
   "source": [
    "#### Recording of a freely-moving mouse imaged with a Miniscope (1-photon imaging). The area recorded is the postsubiculum - a region that is known to contain head-direction cells, or cells that fire when the animal's head is pointing in a specific direction. "
   ]
  },
  {
   "cell_type": "code",
   "execution_count": 3,
   "id": "d615ea13-18ec-47a0-8e46-caa71c23b3d2",
   "metadata": {},
   "outputs": [],
   "source": [
    "data = nap.load_file(\"./data.nwb\")"
   ]
  },
  {
   "cell_type": "code",
   "execution_count": 4,
   "id": "41a3eabe-c5f9-42dc-9bee-f54d700a01da",
   "metadata": {},
   "outputs": [
    {
     "data": {
      "text/plain": [
       "data\n",
       "┍━━━━━━━━━━━━━━━━━━━━━━━┯━━━━━━━━━━━━━┑\n",
       "│ Keys                  │ Type        │\n",
       "┝━━━━━━━━━━━━━━━━━━━━━━━┿━━━━━━━━━━━━━┥\n",
       "│ position_time_support │ IntervalSet │\n",
       "│ RoiResponseSeries     │ TsdFrame    │\n",
       "│ calcium_video         │ TsdTensor   │\n",
       "│ beh_video             │ TsdTensor   │\n",
       "│ z                     │ Tsd         │\n",
       "│ y                     │ Tsd         │\n",
       "│ x                     │ Tsd         │\n",
       "│ rz                    │ Tsd         │\n",
       "│ ry                    │ Tsd         │\n",
       "│ rx                    │ Tsd         │\n",
       "┕━━━━━━━━━━━━━━━━━━━━━━━┷━━━━━━━━━━━━━┙"
      ]
     },
     "execution_count": 4,
     "metadata": {},
     "output_type": "execute_result"
    }
   ],
   "source": [
    "data"
   ]
  },
  {
   "cell_type": "markdown",
   "id": "f8e6f965-599b-4c70-a16d-aeb1737d5a60",
   "metadata": {},
   "source": [
    "### Let's view the behavior and calcium data\n",
    "\n",
    "**NOTE:** We are going to be using a WIP `TimeStore` model to help synchronize our visualization in time. Hopefully, by the end of the summer we will have developed a tool ([`pynaviz`](https://github.com/pynapple-org/pynaviz)) that makes these visualizations and synchronizations even easier :D"
   ]
  },
  {
   "cell_type": "code",
   "execution_count": 5,
   "id": "8161fbb7-f03e-49ef-a53f-2107bfef3da3",
   "metadata": {},
   "outputs": [],
   "source": [
    "time_store = TimeStore()"
   ]
  },
  {
   "cell_type": "markdown",
   "id": "f8ed69be-f1e6-4f50-bdb2-f82bdaffb487",
   "metadata": {},
   "source": [
    "Behavior data and shape 🐭"
   ]
  },
  {
   "cell_type": "code",
   "execution_count": 6,
   "id": "30532af5-d92b-414a-a7f7-2ee38d98e17e",
   "metadata": {},
   "outputs": [
    {
     "data": {
      "text/plain": [
       "(9045, 204, 256)"
      ]
     },
     "execution_count": 6,
     "metadata": {},
     "output_type": "execute_result"
    }
   ],
   "source": [
    "behavior_data = data[\"beh_video\"]\n",
    "behavior_data.shape  # (time, x, y)"
   ]
  },
  {
   "cell_type": "markdown",
   "id": "d623f156-0db1-47bd-8e77-555db37c09bf",
   "metadata": {},
   "source": [
    "Calcium data and the shape 🔬"
   ]
  },
  {
   "cell_type": "code",
   "execution_count": 7,
   "id": "c318349d-4987-461d-8851-a1fe8b6ef2b8",
   "metadata": {},
   "outputs": [
    {
     "data": {
      "text/plain": [
       "(17886, 136, 166)"
      ]
     },
     "execution_count": 7,
     "metadata": {},
     "output_type": "execute_result"
    }
   ],
   "source": [
    "calcium_data = data[\"calcium_video\"]\n",
    "calcium_data.shape  # (time, x, y)"
   ]
  },
  {
   "cell_type": "markdown",
   "id": "ec9aa23d-b513-4fdc-a80c-7881a8f93072",
   "metadata": {},
   "source": [
    "The behavior tracks data needs to be scaled "
   ]
  },
  {
   "cell_type": "code",
   "execution_count": 8,
   "id": "e53612db-83ad-42c3-a2b9-249d219d0e4e",
   "metadata": {},
   "outputs": [
    {
     "name": "stdout",
     "output_type": "stream",
     "text": [
      "-0.460045 0.446303\n",
      "-0.369381 0.537622\n"
     ]
    }
   ],
   "source": [
    "print(data[\"x\"].min(), data[\"x\"].max())\n",
    "print(data[\"z\"].min(), data[\"z\"].max())"
   ]
  },
  {
   "cell_type": "markdown",
   "id": "9ed5e9a5-9767-43d1-8f6a-dfeffa731db9",
   "metadata": {},
   "source": [
    "Scale the behavior tracks data w.r.t. the behavior movie dims"
   ]
  },
  {
   "cell_type": "code",
   "execution_count": 9,
   "id": "86f7321b-9165-4ebd-8add-133e155a3a8a",
   "metadata": {},
   "outputs": [],
   "source": [
    "data[\"x\"] = data[\"x\"] + np.abs(data[\"x\"].min())\n",
    "data[\"x\"] = data[\"x\"] * behavior_data.shape[1]\n",
    "\n",
    "data[\"z\"] = data[\"z\"] + np.abs(data[\"z\"].min())\n",
    "data[\"z\"] = data[\"z\"] * behavior_data.shape[2]"
   ]
  },
  {
   "cell_type": "markdown",
   "id": "b7429695-10fb-4ad7-b855-8a817023b83c",
   "metadata": {},
   "source": [
    "Array of the behavior tracks"
   ]
  },
  {
   "cell_type": "code",
   "execution_count": 10,
   "id": "b707fe30-84de-4081-9896-76ea289a60f2",
   "metadata": {},
   "outputs": [],
   "source": [
    "tracks_data = np.column_stack([data[\"z\"], data[\"x\"]])"
   ]
  },
  {
   "cell_type": "code",
   "execution_count": 11,
   "id": "67831ff2-2ce2-4619-b6c7-7e94f8b9863a",
   "metadata": {},
   "outputs": [
    {
     "data": {
      "text/plain": [
       "Time (s)          0        1\n",
       "----------  -------  -------\n",
       "7.39305     57.6402  49.6919\n",
       "7.4014      57.9259  49.7264\n",
       "7.40975     58.1739  49.7525\n",
       "7.41805     58.3542  49.7605\n",
       "7.4264      58.538   49.7691\n",
       "7.43475     58.7461  49.7719\n",
       "7.44305     58.9729  49.7568\n",
       "...\n",
       "1213.17765  95.9529  96.8916\n",
       "1213.186    95.8935  96.9412\n",
       "1213.19435  95.7737  96.9828\n",
       "1213.20265  95.6608  97.0346\n",
       "1213.211    95.5814  97.0842\n",
       "1213.21935  95.5848  97.0591\n",
       "1213.22765  95.6273  97.0328\n",
       "dtype: float64, shape: (144709, 2)"
      ]
     },
     "execution_count": 11,
     "metadata": {},
     "output_type": "execute_result"
    }
   ],
   "source": [
    "tracks_data "
   ]
  },
  {
   "cell_type": "markdown",
   "id": "f2c9c30e-a5cf-4d69-a268-0c9acc9aa3f6",
   "metadata": {},
   "source": [
    "#### Set our view of the data to where both behavior and position data are available:"
   ]
  },
  {
   "cell_type": "code",
   "execution_count": 12,
   "id": "0f2e6aca-a89c-403a-b2d3-fc920410cc37",
   "metadata": {},
   "outputs": [
    {
     "data": {
      "text/plain": [
       "(7.39305, 1213.22765)"
      ]
     },
     "execution_count": 12,
     "metadata": {},
     "output_type": "execute_result"
    }
   ],
   "source": [
    "behavior_data = behavior_data.restrict(data[\"position_time_support\"])\n",
    "calcium_data = calcium_data.restrict(data[\"position_time_support\"])\n",
    "\n",
    "(data[\"position_time_support\"].start[0], data[\"position_time_support\"].end[0])"
   ]
  },
  {
   "cell_type": "code",
   "execution_count": 13,
   "id": "8d16d8b1-12ed-4edf-81e2-fb12d7fce686",
   "metadata": {},
   "outputs": [
    {
     "data": {
      "application/vnd.jupyter.widget-view+json": {
       "model_id": "5ba681450c5f4c248add42e64af8c5b0",
       "version_major": 2,
       "version_minor": 0
      },
      "text/plain": [
       "RFBOutputContext()"
      ]
     },
     "metadata": {},
     "output_type": "display_data"
    },
    {
     "name": "stderr",
     "output_type": "stream",
     "text": [
      "Detected skylake derivative running on mesa i915. Clears to srgb textures will use manual shader clears.\n"
     ]
    },
    {
     "data": {
      "application/vnd.jupyter.widget-view+json": {
       "model_id": "",
       "version_major": 2,
       "version_minor": 0
      },
      "text/plain": [
       "JupyterOutputContext(children=(JupyterWgpuCanvas(), IpywidgetToolBar(children=(Button(icon='expand-arrows-alt'…"
      ]
     },
     "execution_count": 13,
     "metadata": {},
     "output_type": "execute_result"
    }
   ],
   "source": [
    "# calculate min frame across movie\n",
    "# remove vignette effect from 1p endoscopic imaging\n",
    "min_frame = calcium_data.min(axis=0)\n",
    "\n",
    "# just to show you what this looks like\n",
    "iw = fpl.ImageWidget(min_frame)\n",
    "iw.show()"
   ]
  },
  {
   "cell_type": "code",
   "execution_count": 14,
   "id": "b1bf40df-d0cd-46b1-a8b6-8a0bd14c49e4",
   "metadata": {},
   "outputs": [],
   "source": [
    "iw.close()"
   ]
  },
  {
   "cell_type": "markdown",
   "id": "f033e35d-a876-44d0-80bb-fda55d65f3dc",
   "metadata": {},
   "source": [
    "## Create a big viz for calcium and behavior video! 🎨"
   ]
  },
  {
   "cell_type": "code",
   "execution_count": 15,
   "id": "2426251c-8fbf-4e6f-99a6-29a6e36720c8",
   "metadata": {},
   "outputs": [
    {
     "data": {
      "application/vnd.jupyter.widget-view+json": {
       "model_id": "0c84a824431f4e2fbaae07725740e81d",
       "version_major": 2,
       "version_minor": 0
      },
      "text/plain": [
       "RFBOutputContext()"
      ]
     },
     "metadata": {},
     "output_type": "display_data"
    }
   ],
   "source": [
    "# make figure, calcium on left, behavior on right\n",
    "nap_figure = fpl.Figure(shape=(1,2), names=[[\"calcium\", \"behavior\"]])\n",
    "\n",
    "# image graphic to display current calcium frame\n",
    "calcium_graphic = nap_figure[\"calcium\"].add_image(data=calcium_data[0] - min_frame, name=\"calcium_frame\", cmap=\"gnuplot2\")\n",
    "\n",
    "# a UI tool to help set and visualize vmin-vmax\n",
    "hlut = fpl.widgets.histogram_lut.HistogramLUT(data=calcium_data, image_graphic=calcium_graphic)\n",
    "# add this to the right dock\n",
    "nap_figure[\"calcium\"].docks[\"right\"].add_graphic(hlut)\n",
    "nap_figure[\"calcium\"].docks[\"right\"].size = 80\n",
    "nap_figure[\"calcium\"].docks[\"right\"].auto_scale(maintain_aspect=False)\n",
    "nap_figure[\"calcium\"].docks[\"right\"].controller.enabled = False\n",
    "\n",
    "# image graphic to display current behavior video frame\n",
    "behavior_graphic = nap_figure[\"behavior\"].add_image(data=behavior_data[0], cmap=\"gray\")\n",
    "\n",
    "# line to display the behavior tracks\n",
    "tracks_graphic = nap_figure[\"behavior\"].add_line(tracks_data, cmap=\"winter\", thickness=2, alpha=0.5, offset=(12, 0, 2))"
   ]
  },
  {
   "cell_type": "markdown",
   "id": "1f5c4e78-868c-4e01-aa8b-9ddd8ab81733",
   "metadata": {},
   "source": [
    "#### Create a slider that updates the behavior and calcium videos using `pynapple`"
   ]
  },
  {
   "cell_type": "code",
   "execution_count": 16,
   "id": "bf762a1c-1d15-4bef-82ef-218872c5208f",
   "metadata": {},
   "outputs": [],
   "source": [
    "# This time will be in seconds\n",
    "synced_time = FloatSlider(min=data[\"position_time_support\"].start, max=data[\"position_time_support\"].end, step=0.01, description=\"s\")\n",
    "\n",
    "# auto-resize slider\n",
    "@nap_figure.renderer.add_event_handler(\"resize\")\n",
    "def resize_slider(ev):\n",
    "    synced_time.layout = Layout(width=f\"{ev.width}px\")"
   ]
  },
  {
   "cell_type": "markdown",
   "id": "4a962473-8997-411a-b073-266d74a6eb71",
   "metadata": {},
   "source": [
    "#### Add the components of our visualization to the `TimeStore` model to be synchronized 🕰️"
   ]
  },
  {
   "cell_type": "code",
   "execution_count": 17,
   "id": "2eab6aa0-33b0-4a10-983c-a66296c5ff3d",
   "metadata": {},
   "outputs": [],
   "source": [
    "# add the slider\n",
    "time_store.subscribe(subscriber=synced_time)\n",
    "\n",
    "def substract_min(frame):\n",
    "    \"\"\"subtract min frame from current frame\"\"\"\n",
    "    global min_frame\n",
    "\n",
    "    return frame - min_frame\n",
    "\n",
    "# add our calcium data\n",
    "time_store.subscribe(subscriber=calcium_graphic, data=calcium_data, data_filter=substract_min)\n",
    "\n",
    "# add our behavior data\n",
    "time_store.subscribe(subscriber=behavior_graphic, data=behavior_data)"
   ]
  },
  {
   "cell_type": "markdown",
   "id": "7d1f8716-bf06-4168-a87a-7e4c41fb5bc3",
   "metadata": {},
   "source": [
    "**Here we are going to use `sidecar` to organize our visualizations better :D**"
   ]
  },
  {
   "cell_type": "code",
   "execution_count": 18,
   "id": "d8cc4e61-ef19-4ea0-abef-d421ec83a782",
   "metadata": {},
   "outputs": [],
   "source": [
    "sc = Sidecar()\n",
    "with sc:\n",
    "    display(VBox([nap_figure.show(), synced_time]))"
   ]
  },
  {
   "cell_type": "markdown",
   "id": "c9837c9d-69b8-4bd1-b178-7aff1eddae39",
   "metadata": {},
   "source": [
    "### Visualize head angle just by setting the cmap transform, it's that simple! 🪄"
   ]
  },
  {
   "cell_type": "code",
   "execution_count": 19,
   "id": "ec9ae28d-f804-45db-8747-7a2862139e70",
   "metadata": {},
   "outputs": [],
   "source": [
    "# set cmap transform from \"ry\" head angle\n",
    "tracks_graphic.cmap.transform = data[\"ry\"].to_numpy()\n",
    "\n",
    "# change to a heatmap more suitable for this data\n",
    "tracks_graphic.cmap = \"hsv\""
   ]
  },
  {
   "cell_type": "markdown",
   "id": "325b4341-008b-44d6-afa0-ca546f238685",
   "metadata": {},
   "source": [
    "## Visualize other kinematics just by setting the cmap transform! :D "
   ]
  },
  {
   "cell_type": "code",
   "execution_count": 20,
   "id": "f85f796c-0cee-497f-a5fa-326ec7e5ef19",
   "metadata": {},
   "outputs": [],
   "source": [
    "def get_velocity(array):\n",
    "    return np.gradient(np.abs(gaussian_filter1d(array, sigma=10)))"
   ]
  },
  {
   "cell_type": "code",
   "execution_count": 21,
   "id": "8ad66e63-999b-4cb9-a69e-1c69a51e7902",
   "metadata": {},
   "outputs": [],
   "source": [
    "tracks_graphic.cmap.transform = get_velocity(data[\"z\"].to_numpy())\n",
    "tracks_graphic.cmap = \"seismic\"  # diverging colormap, velocities are negative and positive"
   ]
  },
  {
   "cell_type": "code",
   "execution_count": 22,
   "id": "0c576d03-d46f-4051-8e31-4a6bdc406278",
   "metadata": {},
   "outputs": [],
   "source": [
    "tracks_graphic.cmap.transform = get_velocity(data[\"x\"].to_numpy())"
   ]
  },
  {
   "cell_type": "markdown",
   "id": "f451831b-c955-4025-aff8-4dac6981d98c",
   "metadata": {},
   "source": [
    "Let's go back to head direction"
   ]
  },
  {
   "cell_type": "code",
   "execution_count": 23,
   "id": "8b33757e-8f82-48df-8ff0-8feee1c56517",
   "metadata": {},
   "outputs": [],
   "source": [
    "tracks_graphic.cmap.transform = data[\"ry\"].to_numpy()\n",
    "tracks_graphic.cmap = \"hsv\""
   ]
  },
  {
   "cell_type": "markdown",
   "id": "de735f84-f8e6-4a28-9e83-817ab149cf33",
   "metadata": {},
   "source": [
    "# Visualize Calcium Imaging ROIs\n",
    "\n",
    "#### Calculate the spatial contours and overlay them on the raw calcium data"
   ]
  },
  {
   "cell_type": "code",
   "execution_count": 24,
   "id": "8e8408cc-da72-4bdb-a3c2-8668dfaf2ef8",
   "metadata": {},
   "outputs": [],
   "source": [
    "# get the masks\n",
    "contour_masks = data.nwb.processing['ophys']['ImageSegmentation']['PlaneSegmentation']['image_mask'].data[:]\n",
    "# reshape the masks into a list of 105 components\n",
    "contour_masks = list(contour_masks.reshape((len(contour_masks), 166, 136)))"
   ]
  },
  {
   "cell_type": "code",
   "execution_count": 25,
   "id": "a809353a-cd85-4acd-99a5-2dfc4d7fb8e8",
   "metadata": {},
   "outputs": [],
   "source": [
    "# calculate each contour from the mask using `scikit-image.measure`\n",
    "contours = list()\n",
    "\n",
    "for mask in contour_masks:\n",
    "    contours.append(np.vstack(measure.find_contours(mask)))"
   ]
  },
  {
   "cell_type": "markdown",
   "id": "274746a1-d8a7-48f4-971a-cd94d2ba1f26",
   "metadata": {},
   "source": [
    "#### Add the calculated contours as an overlay to the calcium video"
   ]
  },
  {
   "cell_type": "code",
   "execution_count": 26,
   "id": "57bb7592-7996-469e-accd-bc57927dbf0e",
   "metadata": {},
   "outputs": [],
   "source": [
    "contours_graphic = nap_figure[\"calcium\"].add_line_collection(data=contours, colors=\"w\", alpha=0.8)"
   ]
  },
  {
   "cell_type": "markdown",
   "id": "4e17db12-695c-4d75-ab9d-9cd898961fb3",
   "metadata": {},
   "source": [
    "**It is very easy to see that many of the identified neurons may be \"bad\" candidates. Let's remove them from the dataset as we go on in our anaylsis.**"
   ]
  },
  {
   "cell_type": "markdown",
   "id": "b98007c3-4945-4fed-9309-aa67661d783a",
   "metadata": {},
   "source": [
    "### Select only head-direction neurons"
   ]
  },
  {
   "cell_type": "code",
   "execution_count": 27,
   "id": "7a2ee68e-3ed7-467c-ba6c-d0ac051df380",
   "metadata": {},
   "outputs": [
    {
     "data": {
      "text/plain": [
       "Time (s)           0        1        2        3        4  ...\n",
       "-----------  -------  -------  -------  -------  -------  -----\n",
       "7.4          4.25336  0.1776   1.36078  0.4559   0.22819  ...\n",
       "7.433333     4.23919  0.17688  1.35602  0.45423  0.22733  ...\n",
       "7.466667     4.22506  0.17617  1.35128  0.45257  0.22647  ...\n",
       "7.5          4.21097  0.17546  1.34655  0.5235   0.22562  ...\n",
       "7.533333     4.19693  0.17475  1.34184  0.57631  0.22476  ...\n",
       "7.566667     4.18294  0.17404  1.33714  0.74999  0.22392  ...\n",
       "7.6          4.16899  0.17334  1.33246  0.88075  0.22307  ...\n",
       "...\n",
       "1192.166667  2.54202  0.14531  0.44013  0.5681   0.65477  ...\n",
       "1192.2       2.53029  0.14775  0.43842  0.56657  0.65227  ...\n",
       "1192.233333  2.51861  0.14962  0.43671  0.56505  0.64979  ...\n",
       "1192.266667  2.50698  0.15104  0.435    0.56354  0.64731  ...\n",
       "1192.3       2.49541  0.15209  0.43331  0.56202  0.64485  ...\n",
       "1192.333333  2.48389  0.15283  0.43162  0.58476  0.64239  ...\n",
       "1192.366667  2.47242  0.15333  0.42994  0.62802  0.63994  ...\n",
       "dtype: float64, shape: (35550, 105)"
      ]
     },
     "execution_count": 27,
     "metadata": {},
     "output_type": "execute_result"
    }
   ],
   "source": [
    "# get the temporal data (calcium transients) from the nwb notebook\n",
    "temporal_data = data[\"RoiResponseSeries\"][:].restrict(data[\"position_time_support\"])\n",
    "temporal_data"
   ]
  },
  {
   "cell_type": "code",
   "execution_count": 28,
   "id": "7b7a10cc-fe5c-41e7-87d5-29dcb2f522b4",
   "metadata": {},
   "outputs": [],
   "source": [
    "# compute 1D tuning curved based on head angle\n",
    "head_angle = data[\"ry\"]\n",
    "\n",
    "tuning_curves = nap.compute_1d_tuning_curves_continuous(temporal_data, head_angle, nb_bins = 120)"
   ]
  },
  {
   "cell_type": "markdown",
   "id": "78bef342-87bb-4d94-9a82-396c87abbb01",
   "metadata": {},
   "source": [
    "#### Select the top 50 components "
   ]
  },
  {
   "cell_type": "code",
   "execution_count": 29,
   "id": "5b654537-f5f4-4117-b53b-a8f023428cda",
   "metadata": {},
   "outputs": [],
   "source": [
    "# select good components \n",
    "good_ixs = list(np.argsort(np.ptp(tuning_curves, axis=0))[-50:])\n",
    "bad_ixs = list(np.argsort(np.ptp(tuning_curves, axis=0))[:-50])"
   ]
  },
  {
   "cell_type": "markdown",
   "id": "ef877a32-64c5-4d6f-885d-8cdee460eb4e",
   "metadata": {},
   "source": [
    "#### Color the \"good\" and \"bad\" components"
   ]
  },
  {
   "cell_type": "code",
   "execution_count": 30,
   "id": "5da1a757-ea92-4ba7-957f-d822d3d9a5a2",
   "metadata": {},
   "outputs": [],
   "source": [
    "contours_graphic[good_ixs].colors = \"w\"\n",
    "contours_graphic[bad_ixs].colors = \"magenta\""
   ]
  },
  {
   "cell_type": "markdown",
   "id": "f763b64c-5695-46b8-be72-aa0eea01f165",
   "metadata": {},
   "source": [
    "#### Sort the \"good\" components based on preferred head direction"
   ]
  },
  {
   "cell_type": "code",
   "execution_count": 31,
   "id": "972ce762-5173-44ca-b938-13f3f4c5b228",
   "metadata": {},
   "outputs": [],
   "source": [
    "# sorting the \"good\" neurons based on preferred directions\n",
    "sorted_ixs = tuning_curves.iloc[:,good_ixs].idxmax().sort_values().index.values"
   ]
  },
  {
   "cell_type": "code",
   "execution_count": 32,
   "id": "d9714bbb-fde3-4d46-aebf-d42b5ed38de6",
   "metadata": {},
   "outputs": [
    {
     "data": {
      "text/plain": [
       "array([75, 34, 77, 86, 21, 16,  6,  4, 58, 44, 14, 33, 94, 98, 90, 76,  7,\n",
       "        5, 82, 28, 15, 88, 45, 39,  0,  8, 20, 13, 24, 60, 18, 27, 10, 78,\n",
       "        2, 85,  3, 19, 38, 17, 30, 29, 25, 84, 12, 26, 41,  9, 11,  1])"
      ]
     },
     "execution_count": 32,
     "metadata": {},
     "output_type": "execute_result"
    }
   ],
   "source": [
    "sorted_ixs"
   ]
  },
  {
   "cell_type": "markdown",
   "id": "650e349a-1502-4f25-a3cf-5c8e823e6e65",
   "metadata": {},
   "source": [
    "#### Filter the dataset to only use the sorted \"good\" components\n",
    "\n",
    "In the rest of the demo we will only be using the sub-sampled components."
   ]
  },
  {
   "cell_type": "code",
   "execution_count": 33,
   "id": "b8ab6db5-6f1d-43e4-bad4-49922a50c298",
   "metadata": {},
   "outputs": [],
   "source": [
    "# filter dataset based on sortex indices\n",
    "temporal_data = temporal_data[:,sorted_ixs]\n",
    "contours = [contours[i] for i in sorted_ixs]"
   ]
  },
  {
   "cell_type": "markdown",
   "id": "025ee383-7132-44a0-96be-0f9833d84b86",
   "metadata": {},
   "source": [
    "#### Plot only the \"good\" components"
   ]
  },
  {
   "cell_type": "code",
   "execution_count": 34,
   "id": "823940d0-76d1-4e72-89ab-389d3b0fa9ce",
   "metadata": {},
   "outputs": [],
   "source": [
    "# remove the graphic of all the components\n",
    "nap_figure[\"calcium\"].remove_graphic(contours_graphic)\n",
    "\n",
    "# re-plot only the good ixs\n",
    "contours_graphic = nap_figure[0, 0].add_line_collection(data=contours, colors=\"w\", alpha=0.8)"
   ]
  },
  {
   "cell_type": "markdown",
   "id": "2ddd8810-2fc9-49fc-9d59-283f2d9918fc",
   "metadata": {},
   "source": [
    "## Visualize all calcium tracing using an `ImageGraphic` to display a Heatmap"
   ]
  },
  {
   "cell_type": "code",
   "execution_count": 35,
   "id": "2609b04d-f1c0-4b8d-ac1c-b6f7396d9801",
   "metadata": {},
   "outputs": [
    {
     "data": {
      "application/vnd.jupyter.widget-view+json": {
       "model_id": "eb8a9d1b73cc4a519f58b8f713cbe24f",
       "version_major": 2,
       "version_minor": 0
      },
      "text/plain": [
       "RFBOutputContext()"
      ]
     },
     "metadata": {},
     "output_type": "display_data"
    }
   ],
   "source": [
    "# create a figure, 2 rows, 1 column\n",
    "temporal_fig = fpl.Figure(shape=(2,1), names=[[\"temporal-heatmap\"], [\"tuning-curve\"]])"
   ]
  },
  {
   "cell_type": "code",
   "execution_count": 36,
   "id": "18565a01-148c-4a66-a951-b8b6b6722419",
   "metadata": {},
   "outputs": [],
   "source": [
    "# we need to transpose our temporal data so that it is (# components, time (s))\n",
    "raw_temporal = temporal_data.to_numpy().T\n",
    "\n",
    "# use 'hsv' colormap to represent preferred head direction \n",
    "heatmap_graphic = temporal_fig[0,0].add_image(data=raw_temporal, cmap=\"plasma\", name=\"traces\")"
   ]
  },
  {
   "cell_type": "markdown",
   "id": "baad6d2b-f5ac-45df-b5da-04ecc49acb8a",
   "metadata": {},
   "source": [
    "#### Add a `LinearSelector` that we can map to our behavior and calcium videos"
   ]
  },
  {
   "cell_type": "code",
   "execution_count": 37,
   "id": "bdd215ac-2f9b-4a6d-b36a-9bfba0919786",
   "metadata": {},
   "outputs": [],
   "source": [
    "time_selector = heatmap_graphic.add_linear_selector()"
   ]
  },
  {
   "cell_type": "code",
   "execution_count": 38,
   "id": "c1dcc0e5-6332-4366-94ad-8310623215ac",
   "metadata": {},
   "outputs": [],
   "source": [
    "component_selector = heatmap_graphic.add_linear_selector(axis=\"y\")"
   ]
  },
  {
   "cell_type": "code",
   "execution_count": 39,
   "id": "aad4da44-e0aa-44e3-abbb-01aad2c142b5",
   "metadata": {},
   "outputs": [],
   "source": [
    "# subscribe selector to timestore\n",
    "time_store.subscribe(subscriber=time_selector, multiplier=temporal_data.rate)"
   ]
  },
  {
   "cell_type": "markdown",
   "id": "bc000b09-0b2d-4274-866a-609840189f32",
   "metadata": {},
   "source": [
    "#### Let's view everything together"
   ]
  },
  {
   "cell_type": "code",
   "execution_count": 40,
   "id": "2a4b7bcc-096e-4b70-bbdb-448be1b33c7c",
   "metadata": {},
   "outputs": [],
   "source": [
    "@nap_figure.renderer.add_event_handler(\"resize\")\n",
    "def resize_temporal_fig(ev):\n",
    "    temporal_fig.canvas.set_logical_size(ev.width, 300)\n",
    "\n",
    "sc = Sidecar()\n",
    "\n",
    "with sc:\n",
    "    display(VBox([nap_figure.show(), temporal_fig.show(maintain_aspect=False), synced_time]))"
   ]
  },
  {
   "cell_type": "code",
   "execution_count": 41,
   "id": "646922ae-2c4c-448f-9e23-37ae284ee4c9",
   "metadata": {},
   "outputs": [],
   "source": [
    "# select the first component\n",
    "ix = 0\n",
    "\n",
    "# set the first component colors to magenta\n",
    "contours_graphic[ix].colors = \"green\"\n",
    "\n",
    "# get the tuning curve of the first component \n",
    "tuning_ix = sorted_ixs[ix]\n",
    "\n",
    "tuning_curve = tuning_curves.T.iloc[tuning_ix]\n",
    "\n",
    "# add the tuning curve to the plot as a line\n",
    "tuning_graphic = temporal_fig[\"tuning-curve\"].add_line(data=tuning_curve, offset=(0,0,0))\n",
    "temporal_fig[\"tuning-curve\"].auto_scale(maintain_aspect=False)"
   ]
  },
  {
   "cell_type": "markdown",
   "id": "9680c89d-aec9-4a45-b94a-ac8ba592cf9f",
   "metadata": {},
   "source": [
    "### Add an event handler that allows us to \"scroll\" through the traces and tuning curves :D"
   ]
  },
  {
   "cell_type": "code",
   "execution_count": 42,
   "id": "763ee717-7fe8-441a-a5b5-bca68ef50796",
   "metadata": {},
   "outputs": [],
   "source": [
    "# add an event handler that allows tabbing up and down traces\n",
    "@component_selector.add_event_handler(\"selection\")\n",
    "def update_selected_trace(ev):\n",
    "    ix = ev.get_selected_index()\n",
    "    \n",
    "    # reset the colors of the components to white\n",
    "    contours_graphic.colors = \"w\"\n",
    "\n",
    "    # set the selected component colors to magenta\n",
    "    contours_graphic[ix].colors = \"green\"\n",
    "\n",
    "    nap_figure[\"calcium\"].camera.show_object(contours_graphic[ix].world_object)\n",
    "\n",
    "    # get tuning curve of the selected component\n",
    "    tuning_ix = sorted_ixs[ix]\n",
    "\n",
    "    tuning_curve = tuning_curves.T.iloc[tuning_ix]\n",
    "\n",
    "    # remove the current tuning curve add the new one\n",
    "    #global tuning_graphic\n",
    "    temporal_fig[\"tuning-curve\"].graphics[0].data[:,1] = tuning_curve\n",
    "    temporal_fig[\"tuning-curve\"].auto_scale(maintain_aspect=False)\n",
    "    \n",
    "\n",
    "    #tuning_graphic = tstack_fig[1,0].add_line(data=tuning_curve, offset=(0,0,0))"
   ]
  },
  {
   "cell_type": "markdown",
   "id": "6c23b40d-20f4-41b3-a86f-9f3b0f9f87ed",
   "metadata": {},
   "source": [
    "# Downstream analysis, view a PCA of the calcium"
   ]
  },
  {
   "cell_type": "code",
   "execution_count": 43,
   "id": "5d8bbff5-6406-442b-b55e-d94f7593fcc6",
   "metadata": {},
   "outputs": [],
   "source": [
    "from sklearn.decomposition import PCA\n",
    "from scipy.stats import zscore"
   ]
  },
  {
   "cell_type": "markdown",
   "id": "b6cd0e79-bd95-43dd-bf93-3808a5d6e1aa",
   "metadata": {},
   "source": [
    "#### Perform PCA"
   ]
  },
  {
   "cell_type": "code",
   "execution_count": 44,
   "id": "e9f83353-c06b-4e9e-b4eb-bad477a44405",
   "metadata": {},
   "outputs": [],
   "source": [
    "pca = PCA(n_components=3)\n",
    "\n",
    "zscored = zscore(np.sqrt(temporal_data.to_numpy()), axis=1)\n",
    "calcium_pca = pca.fit_transform(gaussian_filter1d(zscored, sigma=3))"
   ]
  },
  {
   "cell_type": "markdown",
   "id": "4823e88d-392d-4019-ae8c-9c4ef63f08f5",
   "metadata": {},
   "source": [
    "#### Plot the PCA results"
   ]
  },
  {
   "cell_type": "markdown",
   "id": "758c7504-60c0-48b3-88f7-26f83054dac6",
   "metadata": {},
   "source": [
    "To get a proper colormap transform based on the head angle data, need to interpolate the time scale."
   ]
  },
  {
   "cell_type": "code",
   "execution_count": 45,
   "id": "d1c05a86-8b0d-4397-b323-5c43407bb62e",
   "metadata": {},
   "outputs": [],
   "source": [
    "# restrict the head angle data \n",
    "ry_restrict = data[\"ry\"].restrict(data[\"position_time_support\"])"
   ]
  },
  {
   "cell_type": "code",
   "execution_count": 46,
   "id": "7e1717c2-63e6-495c-83d4-2cfefdac5d86",
   "metadata": {},
   "outputs": [],
   "source": [
    "x = np.arange(0, temporal_data.shape[0])\n",
    "xp = np.linspace(0, temporal_data.shape[0], ry_restrict.shape[0])\n",
    "\n",
    "# interpolate \n",
    "ry_transform =  np.interp(x, xp, fp=ry_restrict)  # use the y-values"
   ]
  },
  {
   "cell_type": "code",
   "execution_count": 47,
   "id": "22d5b513-3749-485f-b105-1a7d4908f29f",
   "metadata": {},
   "outputs": [
    {
     "data": {
      "application/vnd.jupyter.widget-view+json": {
       "model_id": "2b70cbf8419b44e188f48feedc800df8",
       "version_major": 2,
       "version_minor": 0
      },
      "text/plain": [
       "RFBOutputContext()"
      ]
     },
     "metadata": {},
     "output_type": "display_data"
    },
    {
     "data": {
      "application/vnd.jupyter.widget-view+json": {
       "model_id": "6341359975ba4d0786652f186bfadb3e",
       "version_major": 2,
       "version_minor": 0
      },
      "text/plain": [
       "JupyterOutputContext(children=(JupyterWgpuCanvas(), IpywidgetToolBar(children=(Button(icon='expand-arrows-alt'…"
      ]
     },
     "execution_count": 47,
     "metadata": {},
     "output_type": "execute_result"
    }
   ],
   "source": [
    "fig_pca = fpl.Figure(\n",
    "    cameras=\"3d\",\n",
    "    controller_types=\"orbit\",\n",
    ")\n",
    "fig_pca[0, 0].add_scatter(calcium_pca, cmap=\"hsv\", cmap_transform=ry_transform, sizes=4, alpha=0.4)\n",
    "marker_graphic = fig_pca[0, 0].add_scatter(calcium_pca[0], sizes=10)\n",
    "\n",
    "fig_pca.show()"
   ]
  },
  {
   "cell_type": "markdown",
   "id": "34ef4f57-4557-412d-b551-5720e35168ca",
   "metadata": {},
   "source": [
    "#### Subscribe the PCA marker to the `TimeStore` model"
   ]
  },
  {
   "cell_type": "code",
   "execution_count": 48,
   "id": "e9c8d255-4bbc-4bf9-8133-561dc64a27d5",
   "metadata": {},
   "outputs": [],
   "source": [
    "# create a `pynapple.TsdFrame` for the PCA data\n",
    "pca_data = nap.TsdFrame(t=temporal_data.t, d=calcium_pca)\n",
    "\n",
    "time_store.subscribe(subscriber=marker_graphic, data=pca_data, multiplier=temporal_data.rate)"
   ]
  },
  {
   "cell_type": "markdown",
   "id": "607acf6a-7432-42d7-895e-6811542a94db",
   "metadata": {},
   "source": [
    "Can change the controller"
   ]
  },
  {
   "cell_type": "code",
   "execution_count": null,
   "id": "f4190905-2900-423c-8bf4-272d091b0cc1",
   "metadata": {},
   "outputs": [],
   "source": [
    "fig_pca[0, 0].controller = \"fly\""
   ]
  },
  {
   "cell_type": "code",
   "execution_count": 57,
   "id": "2cd1e1da-e29e-4378-b717-560552f05129",
   "metadata": {},
   "outputs": [],
   "source": [
    "nap_figure[\"behavior\"].graphics[1].thickness = 0.1"
   ]
  },
  {
   "cell_type": "code",
   "execution_count": null,
   "id": "7616d6c0-3c71-4bed-bf0b-f8f4a7b92290",
   "metadata": {},
   "outputs": [],
   "source": []
  }
 ],
 "metadata": {
  "kernelspec": {
   "display_name": "Python 3 (ipykernel)",
   "language": "python",
   "name": "python3"
  },
  "language_info": {
   "codemirror_mode": {
    "name": "ipython",
    "version": 3
   },
   "file_extension": ".py",
   "mimetype": "text/x-python",
   "name": "python",
   "nbconvert_exporter": "python",
   "pygments_lexer": "ipython3",
   "version": "3.11.9"
  }
 },
 "nbformat": 4,
 "nbformat_minor": 5
}
