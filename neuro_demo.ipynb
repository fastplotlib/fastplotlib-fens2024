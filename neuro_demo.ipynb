{
 "cells": [
  {
   "cell_type": "markdown",
   "id": "1f56fce4-bfa1-412c-89fb-8ff4d347e1df",
   "metadata": {},
   "source": [
    "# Neuroscience using `fastplotlib` and `pynapple`"
   ]
  },
  {
   "cell_type": "markdown",
   "id": "1ae96ab1-8885-4cb3-a955-916da0631798",
   "metadata": {},
   "source": [
    "This notebook will build up a complex visualization using `fastplotlib`, in conjunction with `pynapple`, to show how `fastplotlib` can be a powerful tool in analysis and visualization of neural data!"
   ]
  },
  {
   "cell_type": "code",
   "execution_count": 1,
   "id": "39f565c2-2bcf-44f9-89c2-db06c6202e74",
   "metadata": {},
   "outputs": [],
   "source": [
    "import warnings\n",
    "warnings.simplefilter('ignore')"
   ]
  },
  {
   "cell_type": "code",
   "execution_count": 2,
   "id": "99751d32-4ec7-4555-ab6d-b2926ba0f27b",
   "metadata": {},
   "outputs": [
    {
     "data": {
      "application/vnd.jupyter.widget-view+json": {
       "model_id": "ba2f4b6cc11640e7bdaaee84bf9ffaf1",
       "version_major": 2,
       "version_minor": 0
      },
      "text/plain": [
       "Image(value=b'\\x89PNG\\r\\n\\x1a\\n\\x00\\x00\\x00\\rIHDR\\x00\\x00\\x01,\\x00\\x00\\x007\\x08\\x06\\x00\\x00\\x00\\xb6\\x1bw\\x99\\x…"
      ]
     },
     "metadata": {},
     "output_type": "display_data"
    },
    {
     "name": "stderr",
     "output_type": "stream",
     "text": [
      "MESA-INTEL: warning: cannot initialize blitter engine\n",
      "Detected skylake derivative running on mesa i915. Clears to srgb textures will use manual shader clears.\n",
      "Detected skylake derivative running on mesa i915. Clears to srgb textures will use manual shader clears.\n",
      "Detected skylake derivative running on mesa i915. Clears to srgb textures will use manual shader clears.\n",
      "Detected skylake derivative running on mesa i915. Clears to srgb textures will use manual shader clears.\n",
      "Detected skylake derivative running on mesa i915. Clears to srgb textures will use manual shader clears.\n"
     ]
    },
    {
     "name": "stdout",
     "output_type": "stream",
     "text": [
      "Available devices:\n",
      "🯄 (default) | Intel(R) Arc(tm) Graphics (MTL) | IntegratedGPU | Vulkan | Mesa 24.0.8-1\n",
      "❗ | llvmpipe (LLVM 17.0.6, 256 bits) | CPU | Vulkan | Mesa 24.0.8-1 (LLVM 17.0.6)\n",
      "❗ | Mesa Intel(R) Arc(tm) Graphics (MTL) | IntegratedGPU | OpenGL | \n"
     ]
    }
   ],
   "source": [
    "import fastplotlib as fpl\n",
    "import pynapple as nap\n",
    "import numpy as np\n",
    "from ipywidgets import IntSlider, Layout, VBox, HBox"
   ]
  },
  {
   "cell_type": "code",
   "execution_count": 3,
   "id": "07dc162a-980d-4961-a3db-47b67646a083",
   "metadata": {},
   "outputs": [],
   "source": [
    "import warnings\n",
    "warnings.simplefilter('ignore')"
   ]
  },
  {
   "cell_type": "markdown",
   "id": "7ca263fa-c81a-4d01-858c-f47e4df567df",
   "metadata": {},
   "source": [
    "## Load the data "
   ]
  },
  {
   "cell_type": "markdown",
   "id": "28a4e081-8d3e-4f75-8b0c-114b9264ac2b",
   "metadata": {},
   "source": [
    "#### TODO: INSERT SUMMARY OF THE DATA\n",
    "#### TODO: ADD INSTRUCTIONS FOR CHANGING PATHS TO WHEREVER DATASET IS STORED IN BINDER"
   ]
  },
  {
   "cell_type": "code",
   "execution_count": 4,
   "id": "d615ea13-18ec-47a0-8e46-caa71c23b3d2",
   "metadata": {},
   "outputs": [],
   "source": [
    "data = nap.load_file(\"./data.nwb\")"
   ]
  },
  {
   "cell_type": "code",
   "execution_count": 5,
   "id": "41a3eabe-c5f9-42dc-9bee-f54d700a01da",
   "metadata": {},
   "outputs": [
    {
     "data": {
      "text/plain": [
       "data\n",
       "┍━━━━━━━━━━━━━━━━━━━━━━━┯━━━━━━━━━━━━━┑\n",
       "│ Keys                  │ Type        │\n",
       "┝━━━━━━━━━━━━━━━━━━━━━━━┿━━━━━━━━━━━━━┥\n",
       "│ position_time_support │ IntervalSet │\n",
       "│ RoiResponseSeries     │ TsdFrame    │\n",
       "│ calcium_video         │ TsdTensor   │\n",
       "│ beh_video             │ TsdTensor   │\n",
       "│ z                     │ Tsd         │\n",
       "│ y                     │ Tsd         │\n",
       "│ x                     │ Tsd         │\n",
       "│ rz                    │ Tsd         │\n",
       "│ ry                    │ Tsd         │\n",
       "│ rx                    │ Tsd         │\n",
       "┕━━━━━━━━━━━━━━━━━━━━━━━┷━━━━━━━━━━━━━┙"
      ]
     },
     "execution_count": 5,
     "metadata": {},
     "output_type": "execute_result"
    }
   ],
   "source": [
    "data"
   ]
  },
  {
   "cell_type": "markdown",
   "id": "f8e6f965-599b-4c70-a16d-aeb1737d5a60",
   "metadata": {},
   "source": [
    "### Let's view the behavior and calcium data"
   ]
  },
  {
   "cell_type": "markdown",
   "id": "be7e1aaa-3ab4-45c3-ae71-634a03699d2f",
   "metadata": {},
   "source": [
    "Hopefully, by the end of the summer we will have developed a tool ([`pynaviz`](https://github.com/pynapple-org/pynaviz)) that makes these visualizations and synchronizations even easier :D"
   ]
  },
  {
   "cell_type": "code",
   "execution_count": 6,
   "id": "30532af5-d92b-414a-a7f7-2ee38d98e17e",
   "metadata": {},
   "outputs": [
    {
     "data": {
      "text/plain": [
       "(9045, 204, 256)"
      ]
     },
     "execution_count": 6,
     "metadata": {},
     "output_type": "execute_result"
    }
   ],
   "source": [
    "# behavior shape\n",
    "behavior_data = data[\"beh_video\"]\n",
    "behavior_data.shape"
   ]
  },
  {
   "cell_type": "code",
   "execution_count": 7,
   "id": "c318349d-4987-461d-8851-a1fe8b6ef2b8",
   "metadata": {},
   "outputs": [
    {
     "data": {
      "text/plain": [
       "(17886, 136, 166)"
      ]
     },
     "execution_count": 7,
     "metadata": {},
     "output_type": "execute_result"
    }
   ],
   "source": [
    "# calcium shape\n",
    "calcium_data = data[\"calcium_video\"]\n",
    "calcium_data.shape"
   ]
  },
  {
   "cell_type": "code",
   "execution_count": 8,
   "id": "9032090c-ceed-4572-b483-fdd9f0ee6eb7",
   "metadata": {},
   "outputs": [],
   "source": [
    "behavior_fr = 7.5\n",
    "calcium_fr = 15"
   ]
  },
  {
   "cell_type": "markdown",
   "id": "f2c9c30e-a5cf-4d69-a268-0c9acc9aa3f6",
   "metadata": {},
   "source": [
    "#### We are going to minimize our view of the data to where both behavior and position data are available:"
   ]
  },
  {
   "cell_type": "code",
   "execution_count": 9,
   "id": "0f2e6aca-a89c-403a-b2d3-fc920410cc37",
   "metadata": {},
   "outputs": [
    {
     "data": {
      "text/plain": [
       "(7.39305, 1213.22765)"
      ]
     },
     "execution_count": 9,
     "metadata": {},
     "output_type": "execute_result"
    }
   ],
   "source": [
    "frame_min = data[\"position_time_support\"][\"start\"][0]\n",
    "frame_max = data[\"position_time_support\"][\"end\"][0]\n",
    "(frame_min, frame_max)"
   ]
  },
  {
   "cell_type": "markdown",
   "id": "f033e35d-a876-44d0-80bb-fda55d65f3dc",
   "metadata": {},
   "source": [
    "#### Create a plot for calcium and behavior video"
   ]
  },
  {
   "cell_type": "code",
   "execution_count": 10,
   "id": "2426251c-8fbf-4e6f-99a6-29a6e36720c8",
   "metadata": {},
   "outputs": [
    {
     "data": {
      "application/vnd.jupyter.widget-view+json": {
       "model_id": "a1e846081b74470399d970959edf9058",
       "version_major": 2,
       "version_minor": 0
      },
      "text/plain": [
       "RFBOutputContext()"
      ]
     },
     "metadata": {},
     "output_type": "display_data"
    },
    {
     "name": "stderr",
     "output_type": "stream",
     "text": [
      "Detected skylake derivative running on mesa i915. Clears to srgb textures will use manual shader clears.\n"
     ]
    },
    {
     "data": {
      "text/plain": [
       "<weakproxy at 0x7f0057be08b0 to ImageGraphic at 0x7f004b30f910>"
      ]
     },
     "execution_count": 10,
     "metadata": {},
     "output_type": "execute_result"
    }
   ],
   "source": [
    "nap_figure = fpl.Figure(shape=(1,2), names=[[\"raw\", \"behavior\"]])\n",
    "\n",
    "nap_figure[\"raw\"].add_image(data=calcium_data[0], name=\"raw_frame\")\n",
    "nap_figure[\"behavior\"].add_image(data=behavior_data[0], cmap=\"gray\")"
   ]
  },
  {
   "cell_type": "markdown",
   "id": "1f5c4e78-868c-4e01-aa8b-9ddd8ab81733",
   "metadata": {},
   "source": [
    "#### Create a slider that updates behavior and calcium videos so they are aligned"
   ]
  },
  {
   "cell_type": "code",
   "execution_count": 11,
   "id": "bf762a1c-1d15-4bef-82ef-218872c5208f",
   "metadata": {},
   "outputs": [],
   "source": [
    "# This time will be in milliseconds\n",
    "synced_time = IntSlider(min=frame_min, max=frame_max, description=\"s\", layout=Layout(width=\"20%\"))\n",
    "\n",
    "def update_time(change):\n",
    "    # get the index of synced slider\n",
    "    time_s = change[\"new\"]\n",
    "    # get the corresponding calcium frame from the pynapple tensor\n",
    "    frame_raw = calcium_data.get(time_s, time_units=\"s\")\n",
    "    # update the data in the plot\n",
    "    nap_figure[\"raw\"].graphics[0].data = frame_raw\n",
    "    # get the corresponding behavior frame from the pynapple tensor\n",
    "    frame_behavior = behavior_data.get(time_s, time_units=\"s\")\n",
    "    # update the data in the plot\n",
    "    nap_figure[\"behavior\"].graphics[0].data = frame_behavior\n",
    "    \n",
    "synced_time.observe(update_time, \"value\")"
   ]
  },
  {
   "cell_type": "code",
   "execution_count": 12,
   "id": "f5af0fa1-1f8c-44c7-8e8d-da32239faaa3",
   "metadata": {},
   "outputs": [
    {
     "data": {
      "application/vnd.jupyter.widget-view+json": {
       "model_id": "24b5f64c306541a18ddf097fcfd63b4a",
       "version_major": 2,
       "version_minor": 0
      },
      "text/plain": [
       "VBox(children=(JupyterOutputContext(children=(JupyterWgpuCanvas(), IpywidgetToolBar(children=(Button(icon='exp…"
      ]
     },
     "execution_count": 12,
     "metadata": {},
     "output_type": "execute_result"
    }
   ],
   "source": [
    "VBox([nap_figure.show(), synced_time])"
   ]
  },
  {
   "cell_type": "markdown",
   "id": "2ddd8810-2fc9-49fc-9d59-283f2d9918fc",
   "metadata": {},
   "source": [
    "## Make a plot of the calcium traces "
   ]
  },
  {
   "cell_type": "code",
   "execution_count": 13,
   "id": "2609b04d-f1c0-4b8d-ac1c-b6f7396d9801",
   "metadata": {},
   "outputs": [
    {
     "data": {
      "application/vnd.jupyter.widget-view+json": {
       "model_id": "eaf722ad23204c0d9b2e5683d38d445f",
       "version_major": 2,
       "version_minor": 0
      },
      "text/plain": [
       "RFBOutputContext()"
      ]
     },
     "metadata": {},
     "output_type": "display_data"
    }
   ],
   "source": [
    "# create a figure\n",
    "temporal_fig = fpl.Figure()"
   ]
  },
  {
   "cell_type": "code",
   "execution_count": 14,
   "id": "7a2ee68e-3ed7-467c-ba6c-d0ac051df380",
   "metadata": {},
   "outputs": [
    {
     "data": {
      "text/plain": [
       "Time (s)           0        1        2        3        4  ...\n",
       "-----------  -------  -------  -------  -------  -------  -----\n",
       "0.0          0        0.43582  2.96331  0        0        ...\n",
       "0.033333     0        0.43406  2.95294  0        0        ...\n",
       "0.066667     0        0.43231  2.9426   0        0        ...\n",
       "0.1          0        0.43057  2.93231  0        0        ...\n",
       "0.133333     0        0.42883  2.92205  0        0        ...\n",
       "0.166667     0        0.4271   2.91182  0        0        ...\n",
       "0.2          0        0.42537  2.90163  0        0        ...\n",
       "...\n",
       "1192.166667  2.54202  0.14531  0.44013  0.5681   0.65477  ...\n",
       "1192.2       2.53029  0.14775  0.43842  0.56657  0.65227  ...\n",
       "1192.233333  2.51861  0.14962  0.43671  0.56505  0.64979  ...\n",
       "1192.266667  2.50698  0.15104  0.435    0.56354  0.64731  ...\n",
       "1192.3       2.49541  0.15209  0.43331  0.56202  0.64485  ...\n",
       "1192.333333  2.48389  0.15283  0.43162  0.58476  0.64239  ...\n",
       "1192.366667  2.47242  0.15333  0.42994  0.62802  0.63994  ...\n",
       "dtype: float64, shape: (35772, 105)"
      ]
     },
     "execution_count": 14,
     "metadata": {},
     "output_type": "execute_result"
    }
   ],
   "source": [
    "# get the temporal data from the nwb notebook\n",
    "temporal = data[\"RoiResponseSeries\"]\n",
    "temporal"
   ]
  },
  {
   "cell_type": "code",
   "execution_count": 15,
   "id": "18565a01-148c-4a66-a951-b8b6b6722419",
   "metadata": {},
   "outputs": [],
   "source": [
    "# we need to transpose our temporal data so that it is (# components, time (s))\n",
    "temporal_graphic = temporal_fig[0,0].add_line_stack(data=temporal.to_numpy().T, colors=\"w\")"
   ]
  },
  {
   "cell_type": "markdown",
   "id": "baad6d2b-f5ac-45df-b5da-04ecc49acb8a",
   "metadata": {},
   "source": [
    "#### We can also add a `LinearSelector` that we can then map to our behavior and calcium videos"
   ]
  },
  {
   "cell_type": "code",
   "execution_count": 16,
   "id": "e18195e6-8aeb-45bf-9da4-b08089a85e60",
   "metadata": {},
   "outputs": [],
   "source": [
    "temporal_slider = temporal_graphic.add_linear_selector()"
   ]
  },
  {
   "cell_type": "code",
   "execution_count": 17,
   "id": "2a4b7bcc-096e-4b70-bbdb-448be1b33c7c",
   "metadata": {},
   "outputs": [
    {
     "data": {
      "application/vnd.jupyter.widget-view+json": {
       "model_id": "1675398438c542ef9c724de2ff521e4a",
       "version_major": 2,
       "version_minor": 0
      },
      "text/plain": [
       "JupyterOutputContext(children=(JupyterWgpuCanvas(), IpywidgetToolBar(children=(Button(icon='expand-arrows-alt'…"
      ]
     },
     "execution_count": 17,
     "metadata": {},
     "output_type": "execute_result"
    }
   ],
   "source": [
    "temporal_fig.show(maintain_aspect=False)"
   ]
  },
  {
   "cell_type": "markdown",
   "id": "32f05422-5ccc-4452-bce0-b4b049a21e24",
   "metadata": {},
   "source": [
    "#### We can another function to update the position of the `LinearSelector` based on the position of our `IntSlider` from before"
   ]
  },
  {
   "cell_type": "code",
   "execution_count": 18,
   "id": "91f3d7ad-806d-4d1b-aac9-9dc40a862389",
   "metadata": {},
   "outputs": [],
   "source": [
    "def update_time_temporal(change):\n",
    "    # get the index of synced slider\n",
    "    time_s = change[\"new\"]\n",
    "\n",
    "    # temporal data has framerate 30\n",
    "    temporal_slider.selection = time_s * 30\n",
    "\n",
    "synced_time.observe(update_time_temporal, \"value\")"
   ]
  },
  {
   "cell_type": "markdown",
   "id": "bc000b09-0b2d-4274-866a-609840189f32",
   "metadata": {},
   "source": [
    "#### Let's view everything together"
   ]
  },
  {
   "cell_type": "code",
   "execution_count": 20,
   "id": "3854949e-91c1-4900-9277-b8be495ef0ff",
   "metadata": {},
   "outputs": [
    {
     "data": {
      "application/vnd.jupyter.widget-view+json": {
       "model_id": "ea5fb0c3d7444eaba479a643f7e68977",
       "version_major": 2,
       "version_minor": 0
      },
      "text/plain": [
       "VBox(children=(JupyterOutputContext(children=(JupyterWgpuCanvas(frame_feedback={'index': 697, 'timestamp': 171…"
      ]
     },
     "execution_count": 20,
     "metadata": {},
     "output_type": "execute_result"
    }
   ],
   "source": [
    "VBox([nap_figure.show(), temporal_fig.show(maintain_aspect=False), synced_time])"
   ]
  },
  {
   "cell_type": "markdown",
   "id": "d7010431-0b1f-4f52-8adb-825581fe6365",
   "metadata": {},
   "source": []
  },
  {
   "cell_type": "code",
   "execution_count": null,
   "id": "3de1b672-bb50-477f-be75-a523d571f8d8",
   "metadata": {},
   "outputs": [],
   "source": []
  },
  {
   "cell_type": "code",
   "execution_count": null,
   "id": "7d122859-612a-453d-a4cc-c3f477923257",
   "metadata": {},
   "outputs": [],
   "source": []
  },
  {
   "cell_type": "code",
   "execution_count": null,
   "id": "09f155fe-e6bc-42af-b507-ef0db074531b",
   "metadata": {},
   "outputs": [],
   "source": []
  },
  {
   "cell_type": "code",
   "execution_count": null,
   "id": "6356e671-d037-499d-a064-00d9959840f9",
   "metadata": {},
   "outputs": [],
   "source": []
  },
  {
   "cell_type": "code",
   "execution_count": null,
   "id": "8c533092-eccb-4c4c-ba0d-02d7cd838129",
   "metadata": {},
   "outputs": [],
   "source": []
  },
  {
   "cell_type": "markdown",
   "id": "79964bb5-c643-4f15-b109-aef482f48229",
   "metadata": {},
   "source": [
    "#### Let's add an event handler that allows us to select a given component"
   ]
  },
  {
   "cell_type": "code",
   "execution_count": 64,
   "id": "0db9e8e3-0811-4827-87bc-0ad3338d06f2",
   "metadata": {},
   "outputs": [],
   "source": [
    "@temporal_graphic.add_event_handler(\"click\")\n",
    "def click_event(ev):\n",
    "    # reset the component colors\n",
    "    temporal_graphic.colors = \"w\"\n",
    "    # set the selected component color\n",
    "    ev.graphic.colors = \"magenta\""
   ]
  },
  {
   "cell_type": "markdown",
   "id": "25292b23-df7b-4fb3-9e81-b11d33adaa8a",
   "metadata": {},
   "source": [
    "#### Now that we are selecting a given components, let's also create a plot that will allow us to zoom in on that given neural trace"
   ]
  },
  {
   "cell_type": "code",
   "execution_count": 73,
   "id": "baaeb620-e94c-4f4a-89f4-b192f0b73d9e",
   "metadata": {},
   "outputs": [
    {
     "data": {
      "application/vnd.jupyter.widget-view+json": {
       "model_id": "0e1b05e2f2a74a13bbb92233d7cac365",
       "version_major": 2,
       "version_minor": 0
      },
      "text/plain": [
       "RFBOutputContext()"
      ]
     },
     "metadata": {},
     "output_type": "display_data"
    }
   ],
   "source": [
    "zoomed_fix = fpl.Figure()"
   ]
  },
  {
   "cell_type": "code",
   "execution_count": 74,
   "id": "b3b3ac1d-f6f6-465d-8054-e0c906fb4d66",
   "metadata": {},
   "outputs": [],
   "source": [
    "@temporal_graphic.add_event_handler(\"click\")\n",
    "def update_zoom_plot(ev):\n",
    "    zoomed_fix[0,0].clear()\n",
    "    lg = zoomed_fix[0,0].add_graphic(ev.graphic)"
   ]
  },
  {
   "cell_type": "code",
   "execution_count": 75,
   "id": "7ed81b62-8c9e-483b-b46b-c3368e00588b",
   "metadata": {},
   "outputs": [
    {
     "name": "stderr",
     "output_type": "stream",
     "text": [
      "/home/caitlin/venvs/fpl/lib/python3.11/site-packages/traitlets/traitlets.py:1385: DeprecationWarning: Passing unrecognized arguments to super(Button).__init__(value=False).\n",
      "object.__init__() takes exactly one argument (the instance to initialize)\n",
      "This is deprecated in traitlets 4.2.This error will be raised in a future release of traitlets.\n",
      "  warn(\n",
      "/home/caitlin/venvs/fpl/lib/python3.11/site-packages/traitlets/traitlets.py:1385: DeprecationWarning: Passing unrecognized arguments to super(Button).__init__(value=False).\n",
      "object.__init__() takes exactly one argument (the instance to initialize)\n",
      "This is deprecated in traitlets 4.2.This error will be raised in a future release of traitlets.\n",
      "  warn(\n",
      "/home/caitlin/venvs/fpl/lib/python3.11/site-packages/traitlets/traitlets.py:1385: DeprecationWarning: Passing unrecognized arguments to super(Button).__init__(value=False).\n",
      "object.__init__() takes exactly one argument (the instance to initialize)\n",
      "This is deprecated in traitlets 4.2.This error will be raised in a future release of traitlets.\n",
      "  warn(\n",
      "/home/caitlin/venvs/fpl/lib/python3.11/site-packages/traitlets/traitlets.py:1385: DeprecationWarning: Passing unrecognized arguments to super(Button).__init__(value=False).\n",
      "object.__init__() takes exactly one argument (the instance to initialize)\n",
      "This is deprecated in traitlets 4.2.This error will be raised in a future release of traitlets.\n",
      "  warn(\n",
      "/home/caitlin/venvs/fpl/lib/python3.11/site-packages/traitlets/traitlets.py:1385: DeprecationWarning: Passing unrecognized arguments to super(IpywidgetToolBar).__init__().\n",
      "ToolBar.__init__() missing 1 required positional argument: 'figure'\n",
      "This is deprecated in traitlets 4.2.This error will be raised in a future release of traitlets.\n",
      "  warn(\n"
     ]
    },
    {
     "data": {
      "application/vnd.jupyter.widget-view+json": {
       "model_id": "1d11193d367048f1b6a733e6fb6aa53d",
       "version_major": 2,
       "version_minor": 0
      },
      "text/plain": [
       "JupyterOutputContext(children=(JupyterWgpuCanvas(), IpywidgetToolBar(children=(Button(icon='expand-arrows-alt'…"
      ]
     },
     "execution_count": 75,
     "metadata": {},
     "output_type": "execute_result"
    }
   ],
   "source": [
    "zoomed_fix.show(maintain_aspect=False)"
   ]
  },
  {
   "cell_type": "code",
   "execution_count": null,
   "id": "2efb3420-0ad5-4cc9-86b9-bdf384814de9",
   "metadata": {},
   "outputs": [],
   "source": [
    "# add contours\n",
    "# single plot with contours"
   ]
  },
  {
   "cell_type": "code",
   "execution_count": 5,
   "id": "be4b132f-ed86-43cd-baed-15ac470cb457",
   "metadata": {},
   "outputs": [],
   "source": [
    "contours = data.nwb.processing['ophys']['ImageSegmentation']['PlaneSegmentation']['image_mask'].data[:]\n",
    "contours = contours.reshape((len(contours), 166, 136))"
   ]
  },
  {
   "cell_type": "code",
   "execution_count": 6,
   "id": "771a8046-a889-43ca-adc7-2e76ea1bee25",
   "metadata": {},
   "outputs": [
    {
     "data": {
      "text/plain": [
       "(105, 166, 136)"
      ]
     },
     "execution_count": 6,
     "metadata": {},
     "output_type": "execute_result"
    }
   ],
   "source": [
    "contours.shape"
   ]
  },
  {
   "cell_type": "code",
   "execution_count": 7,
   "id": "4e2fa97a-b66b-4525-9c52-921c246fc894",
   "metadata": {},
   "outputs": [
    {
     "data": {
      "text/plain": [
       "105"
      ]
     },
     "execution_count": 7,
     "metadata": {},
     "output_type": "execute_result"
    }
   ],
   "source": [
    "len(list(contours))"
   ]
  },
  {
   "cell_type": "code",
   "execution_count": 9,
   "id": "10bcd535-4479-4e3a-b71b-21f0c9c47b19",
   "metadata": {},
   "outputs": [
    {
     "data": {
      "text/plain": [
       "(166, 136)"
      ]
     },
     "execution_count": 9,
     "metadata": {},
     "output_type": "execute_result"
    }
   ],
   "source": [
    "list(contours)[0].shape"
   ]
  },
  {
   "cell_type": "code",
   "execution_count": 11,
   "id": "a5a760bc-45f1-462a-9000-50eac1d36440",
   "metadata": {},
   "outputs": [
    {
     "data": {
      "text/plain": [
       "(166, 136)"
      ]
     },
     "execution_count": 11,
     "metadata": {},
     "output_type": "execute_result"
    }
   ],
   "source": [
    "contours.sum(0).shape"
   ]
  },
  {
   "cell_type": "code",
   "execution_count": 13,
   "id": "1627aecb-f08c-4e10-893c-763b8d8709cf",
   "metadata": {},
   "outputs": [
    {
     "data": {
      "application/vnd.jupyter.widget-view+json": {
       "model_id": "0b5cb02dc6204cbb99e8d52a43fc7050",
       "version_major": 2,
       "version_minor": 0
      },
      "text/plain": [
       "RFBOutputContext()"
      ]
     },
     "metadata": {},
     "output_type": "display_data"
    },
    {
     "name": "stderr",
     "output_type": "stream",
     "text": [
      "/home/caitlin/venvs/fpl/lib/python3.11/site-packages/traitlets/traitlets.py:1385: DeprecationWarning: Passing unrecognized arguments to super(Button).__init__(value=False).\n",
      "object.__init__() takes exactly one argument (the instance to initialize)\n",
      "This is deprecated in traitlets 4.2.This error will be raised in a future release of traitlets.\n",
      "  warn(\n",
      "/home/caitlin/venvs/fpl/lib/python3.11/site-packages/traitlets/traitlets.py:1385: DeprecationWarning: Passing unrecognized arguments to super(Button).__init__(value=False).\n",
      "object.__init__() takes exactly one argument (the instance to initialize)\n",
      "This is deprecated in traitlets 4.2.This error will be raised in a future release of traitlets.\n",
      "  warn(\n",
      "/home/caitlin/venvs/fpl/lib/python3.11/site-packages/traitlets/traitlets.py:1385: DeprecationWarning: Passing unrecognized arguments to super(Button).__init__(value=False).\n",
      "object.__init__() takes exactly one argument (the instance to initialize)\n",
      "This is deprecated in traitlets 4.2.This error will be raised in a future release of traitlets.\n",
      "  warn(\n",
      "/home/caitlin/venvs/fpl/lib/python3.11/site-packages/traitlets/traitlets.py:1385: DeprecationWarning: Passing unrecognized arguments to super(Button).__init__(value=False).\n",
      "object.__init__() takes exactly one argument (the instance to initialize)\n",
      "This is deprecated in traitlets 4.2.This error will be raised in a future release of traitlets.\n",
      "  warn(\n",
      "/home/caitlin/venvs/fpl/lib/python3.11/site-packages/traitlets/traitlets.py:1385: DeprecationWarning: Passing unrecognized arguments to super(IpywidgetToolBar).__init__().\n",
      "ToolBar.__init__() missing 1 required positional argument: 'figure'\n",
      "This is deprecated in traitlets 4.2.This error will be raised in a future release of traitlets.\n",
      "  warn(\n"
     ]
    },
    {
     "data": {
      "application/vnd.jupyter.widget-view+json": {
       "model_id": "1dc6a30abbf54837a2b3d4395e369165",
       "version_major": 2,
       "version_minor": 0
      },
      "text/plain": [
       "JupyterOutputContext(children=(JupyterWgpuCanvas(), IpywidgetToolBar(children=(Button(icon='expand-arrows-alt'…"
      ]
     },
     "execution_count": 13,
     "metadata": {},
     "output_type": "execute_result"
    }
   ],
   "source": [
    "fig = fpl.Figure()\n",
    "\n",
    "fig[0,0].add_image(contours[0])\n",
    "\n",
    "fig.show()"
   ]
  },
  {
   "cell_type": "code",
   "execution_count": null,
   "id": "3dccaa64-e39f-497e-9d08-61559c0bf194",
   "metadata": {},
   "outputs": [],
   "source": []
  }
 ],
 "metadata": {
  "kernelspec": {
   "display_name": "Python 3 (ipykernel)",
   "language": "python",
   "name": "python3"
  },
  "language_info": {
   "codemirror_mode": {
    "name": "ipython",
    "version": 3
   },
   "file_extension": ".py",
   "mimetype": "text/x-python",
   "name": "python",
   "nbconvert_exporter": "python",
   "pygments_lexer": "ipython3",
   "version": "3.11.9"
  }
 },
 "nbformat": 4,
 "nbformat_minor": 5
}
