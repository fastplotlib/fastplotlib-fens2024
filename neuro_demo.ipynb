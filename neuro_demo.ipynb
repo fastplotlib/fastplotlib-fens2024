{
 "cells": [
  {
   "cell_type": "markdown",
   "id": "1f56fce4-bfa1-412c-89fb-8ff4d347e1df",
   "metadata": {},
   "source": [
    "# Neuroscience using `fastplotlib` and `pynapple`"
   ]
  },
  {
   "cell_type": "markdown",
   "id": "1ae96ab1-8885-4cb3-a955-916da0631798",
   "metadata": {},
   "source": [
    "This notebook will build up a complex visualization using `fastplotlib`, in conjunction with `pynapple`, to show how `fastplotlib` can be a powerful tool in analysis and visualization of neural data!"
   ]
  },
  {
   "cell_type": "code",
   "execution_count": 1,
   "id": "39f565c2-2bcf-44f9-89c2-db06c6202e74",
   "metadata": {},
   "outputs": [],
   "source": [
    "import warnings\n",
    "warnings.simplefilter('ignore')"
   ]
  },
  {
   "cell_type": "code",
   "execution_count": 2,
   "id": "e18cb0c6-5abb-484f-926e-9e8279135a0a",
   "metadata": {},
   "outputs": [
    {
     "name": "stdout",
     "output_type": "stream",
     "text": [
      "Requirement already satisfied: scikit-image in /home/caitlin/venvs/fens/lib/python3.11/site-packages (0.24.0)\n",
      "Requirement already satisfied: numpy>=1.23 in /home/caitlin/venvs/fens/lib/python3.11/site-packages (from scikit-image) (1.26.4)\n",
      "Requirement already satisfied: scipy>=1.9 in /home/caitlin/venvs/fens/lib/python3.11/site-packages (from scikit-image) (1.13.1)\n",
      "Requirement already satisfied: networkx>=2.8 in /home/caitlin/venvs/fens/lib/python3.11/site-packages (from scikit-image) (3.3)\n",
      "Requirement already satisfied: pillow>=9.1 in /home/caitlin/venvs/fens/lib/python3.11/site-packages (from scikit-image) (10.3.0)\n",
      "Requirement already satisfied: imageio>=2.33 in /home/caitlin/venvs/fens/lib/python3.11/site-packages (from scikit-image) (2.34.1)\n",
      "Requirement already satisfied: tifffile>=2022.8.12 in /home/caitlin/venvs/fens/lib/python3.11/site-packages (from scikit-image) (2024.6.18)\n",
      "Requirement already satisfied: packaging>=21 in /home/caitlin/venvs/fens/lib/python3.11/site-packages (from scikit-image) (24.1)\n",
      "Requirement already satisfied: lazy-loader>=0.4 in /home/caitlin/venvs/fens/lib/python3.11/site-packages (from scikit-image) (0.4)\n"
     ]
    }
   ],
   "source": [
    "# if not installed, will need a function from scikit-image\n",
    "! pip install scikit-image"
   ]
  },
  {
   "cell_type": "code",
   "execution_count": 3,
   "id": "99751d32-4ec7-4555-ab6d-b2926ba0f27b",
   "metadata": {},
   "outputs": [
    {
     "data": {
      "application/vnd.jupyter.widget-view+json": {
       "model_id": "f7e57b8b1059481e91d184fbaa508cfa",
       "version_major": 2,
       "version_minor": 0
      },
      "text/plain": [
       "Image(value=b'\\x89PNG\\r\\n\\x1a\\n\\x00\\x00\\x00\\rIHDR\\x00\\x00\\x01,\\x00\\x00\\x007\\x08\\x06\\x00\\x00\\x00\\xb6\\x1bw\\x99\\x…"
      ]
     },
     "metadata": {},
     "output_type": "display_data"
    },
    {
     "name": "stderr",
     "output_type": "stream",
     "text": [
      "MESA-INTEL: warning: cannot initialize blitter engine\n",
      "Detected skylake derivative running on mesa i915. Clears to srgb textures will use manual shader clears.\n",
      "Detected skylake derivative running on mesa i915. Clears to srgb textures will use manual shader clears.\n",
      "Detected skylake derivative running on mesa i915. Clears to srgb textures will use manual shader clears.\n",
      "Detected skylake derivative running on mesa i915. Clears to srgb textures will use manual shader clears.\n",
      "Detected skylake derivative running on mesa i915. Clears to srgb textures will use manual shader clears.\n"
     ]
    },
    {
     "name": "stdout",
     "output_type": "stream",
     "text": [
      "Available devices:\n",
      "🯄 (default) | Intel(R) Arc(tm) Graphics (MTL) | IntegratedGPU | Vulkan | Mesa 24.0.8-1\n",
      "❗ | llvmpipe (LLVM 17.0.6, 256 bits) | CPU | Vulkan | Mesa 24.0.8-1 (LLVM 17.0.6)\n",
      "❗ | Mesa Intel(R) Arc(tm) Graphics (MTL) | IntegratedGPU | OpenGL | \n"
     ]
    }
   ],
   "source": [
    "import fastplotlib as fpl\n",
    "import pynapple as nap\n",
    "import numpy as np\n",
    "from ipywidgets import IntSlider, Layout, VBox, HBox, FloatSlider\n",
    "from skimage import measure\n",
    "from sidecar import Sidecar"
   ]
  },
  {
   "cell_type": "code",
   "execution_count": 4,
   "id": "07dc162a-980d-4961-a3db-47b67646a083",
   "metadata": {},
   "outputs": [],
   "source": [
    "import warnings\n",
    "warnings.simplefilter('ignore')"
   ]
  },
  {
   "cell_type": "markdown",
   "id": "7ca263fa-c81a-4d01-858c-f47e4df567df",
   "metadata": {},
   "source": [
    "## Load the data "
   ]
  },
  {
   "cell_type": "markdown",
   "id": "28a4e081-8d3e-4f75-8b0c-114b9264ac2b",
   "metadata": {},
   "source": [
    "#### Recording of a freely-moving mouse imaged with a Miniscope (1-photon imaging). The area recorded is the postsubiculum - a region that is known to contain head-direction cells, or cells that fire when the animal's head is pointing in a specific direction. "
   ]
  },
  {
   "cell_type": "code",
   "execution_count": 5,
   "id": "d615ea13-18ec-47a0-8e46-caa71c23b3d2",
   "metadata": {},
   "outputs": [],
   "source": [
    "data = nap.load_file(\"./data.nwb\")"
   ]
  },
  {
   "cell_type": "code",
   "execution_count": 6,
   "id": "41a3eabe-c5f9-42dc-9bee-f54d700a01da",
   "metadata": {},
   "outputs": [
    {
     "data": {
      "text/plain": [
       "data\n",
       "┍━━━━━━━━━━━━━━━━━━━━━━━┯━━━━━━━━━━━━━┑\n",
       "│ Keys                  │ Type        │\n",
       "┝━━━━━━━━━━━━━━━━━━━━━━━┿━━━━━━━━━━━━━┥\n",
       "│ position_time_support │ IntervalSet │\n",
       "│ RoiResponseSeries     │ TsdFrame    │\n",
       "│ calcium_video         │ TsdTensor   │\n",
       "│ beh_video             │ TsdTensor   │\n",
       "│ z                     │ Tsd         │\n",
       "│ y                     │ Tsd         │\n",
       "│ x                     │ Tsd         │\n",
       "│ rz                    │ Tsd         │\n",
       "│ ry                    │ Tsd         │\n",
       "│ rx                    │ Tsd         │\n",
       "┕━━━━━━━━━━━━━━━━━━━━━━━┷━━━━━━━━━━━━━┙"
      ]
     },
     "execution_count": 6,
     "metadata": {},
     "output_type": "execute_result"
    }
   ],
   "source": [
    "data"
   ]
  },
  {
   "cell_type": "markdown",
   "id": "f8e6f965-599b-4c70-a16d-aeb1737d5a60",
   "metadata": {},
   "source": [
    "### Let's view the behavior and calcium data"
   ]
  },
  {
   "cell_type": "markdown",
   "id": "be7e1aaa-3ab4-45c3-ae71-634a03699d2f",
   "metadata": {},
   "source": [
    "Hopefully, by the end of the summer we will have developed a tool ([`pynaviz`](https://github.com/pynapple-org/pynaviz)) that makes these visualizations and synchronizations even easier :D"
   ]
  },
  {
   "cell_type": "code",
   "execution_count": 7,
   "id": "30532af5-d92b-414a-a7f7-2ee38d98e17e",
   "metadata": {},
   "outputs": [
    {
     "data": {
      "text/plain": [
       "(9045, 204, 256)"
      ]
     },
     "execution_count": 7,
     "metadata": {},
     "output_type": "execute_result"
    }
   ],
   "source": [
    "# behavior shape\n",
    "behavior_data = data[\"beh_video\"]\n",
    "behavior_data.shape"
   ]
  },
  {
   "cell_type": "code",
   "execution_count": 8,
   "id": "c318349d-4987-461d-8851-a1fe8b6ef2b8",
   "metadata": {},
   "outputs": [
    {
     "data": {
      "text/plain": [
       "(17886, 136, 166)"
      ]
     },
     "execution_count": 8,
     "metadata": {},
     "output_type": "execute_result"
    }
   ],
   "source": [
    "# calcium shape\n",
    "calcium_data = data[\"calcium_video\"]\n",
    "calcium_data.shape"
   ]
  },
  {
   "cell_type": "markdown",
   "id": "f2c9c30e-a5cf-4d69-a268-0c9acc9aa3f6",
   "metadata": {},
   "source": [
    "#### Minimize our view of the data to where both behavior and position data are available:"
   ]
  },
  {
   "cell_type": "code",
   "execution_count": 9,
   "id": "0f2e6aca-a89c-403a-b2d3-fc920410cc37",
   "metadata": {},
   "outputs": [
    {
     "data": {
      "text/plain": [
       "(7.39305, 1213.22765)"
      ]
     },
     "execution_count": 9,
     "metadata": {},
     "output_type": "execute_result"
    }
   ],
   "source": [
    "frame_min = data[\"position_time_support\"][\"start\"][0]\n",
    "frame_max = data[\"position_time_support\"][\"end\"][0]\n",
    "(frame_min, frame_max)"
   ]
  },
  {
   "cell_type": "markdown",
   "id": "f033e35d-a876-44d0-80bb-fda55d65f3dc",
   "metadata": {},
   "source": [
    "### Create a plot for calcium and behavior video"
   ]
  },
  {
   "cell_type": "code",
   "execution_count": 10,
   "id": "2426251c-8fbf-4e6f-99a6-29a6e36720c8",
   "metadata": {},
   "outputs": [
    {
     "data": {
      "application/vnd.jupyter.widget-view+json": {
       "model_id": "713a00728ff149be86169fe45567e716",
       "version_major": 2,
       "version_minor": 0
      },
      "text/plain": [
       "RFBOutputContext()"
      ]
     },
     "metadata": {},
     "output_type": "display_data"
    },
    {
     "name": "stderr",
     "output_type": "stream",
     "text": [
      "Detected skylake derivative running on mesa i915. Clears to srgb textures will use manual shader clears.\n"
     ]
    }
   ],
   "source": [
    "nap_figure = fpl.Figure(shape=(1,2), names=[[\"raw\", \"behavior\"]])\n",
    "\n",
    "calcium_graphic = nap_figure[\"raw\"].add_image(data=calcium_data[0], name=\"raw_frame\", cmap=\"viridis\")\n",
    "behavior_graphic = nap_figure[\"behavior\"].add_image(data=behavior_data[0], cmap=\"gray\")"
   ]
  },
  {
   "cell_type": "markdown",
   "id": "1f5c4e78-868c-4e01-aa8b-9ddd8ab81733",
   "metadata": {},
   "source": [
    "#### Create a slider that updates the behavior and calcium videos using `pyanapple`"
   ]
  },
  {
   "cell_type": "code",
   "execution_count": 11,
   "id": "bf762a1c-1d15-4bef-82ef-218872c5208f",
   "metadata": {},
   "outputs": [],
   "source": [
    "# This time will be in milliseconds\n",
    "synced_time = IntSlider(min=frame_min, max=frame_max, step=1, description=\"s\", layout=Layout(width=\"60%\"))"
   ]
  },
  {
   "cell_type": "markdown",
   "id": "4a962473-8997-411a-b073-266d74a6eb71",
   "metadata": {},
   "source": [
    "#### Create a `TimeStore` object that will synchronize our data"
   ]
  },
  {
   "cell_type": "code",
   "execution_count": 12,
   "id": "2eab6aa0-33b0-4a10-983c-a66296c5ff3d",
   "metadata": {},
   "outputs": [
    {
     "ename": "NameError",
     "evalue": "name 'TimeStore' is not defined",
     "output_type": "error",
     "traceback": [
      "\u001b[0;31m---------------------------------------------------------------------------\u001b[0m",
      "\u001b[0;31mNameError\u001b[0m                                 Traceback (most recent call last)",
      "Cell \u001b[0;32mIn[12], line 2\u001b[0m\n\u001b[1;32m      1\u001b[0m \u001b[38;5;66;03m# create a TimeStore\u001b[39;00m\n\u001b[0;32m----> 2\u001b[0m time_store \u001b[38;5;241m=\u001b[39m \u001b[43mTimeStore\u001b[49m()\n\u001b[1;32m      4\u001b[0m \u001b[38;5;66;03m# subscribe our slider and calcium/behavior data to the store to be updated\u001b[39;00m\n\u001b[1;32m      5\u001b[0m time_store\u001b[38;5;241m.\u001b[39msubscribe(synced_time)\n",
      "\u001b[0;31mNameError\u001b[0m: name 'TimeStore' is not defined"
     ]
    }
   ],
   "source": [
    "# create a TimeStore\n",
    "time_store = TimeStore()\n",
    "\n",
    "# subscribe our slider and calcium/behavior data to the store to be updated\n",
    "time_store.subscribe(synced_time)\n",
    "time_store.subscribe(calcium_graphic, calcium_data)\n",
    "time_store.subscribe(behavior_graphic, behavior_data)"
   ]
  },
  {
   "cell_type": "markdown",
   "id": "7d1f8716-bf06-4168-a87a-7e4c41fb5bc3",
   "metadata": {},
   "source": [
    "**Here we are going to use `sidecar` to organize our visualizations better :D**"
   ]
  },
  {
   "cell_type": "code",
   "execution_count": 13,
   "id": "d8cc4e61-ef19-4ea0-abef-d421ec83a782",
   "metadata": {},
   "outputs": [],
   "source": [
    "sc = Sidecar()\n",
    "with sc:\n",
    "    display(VBox([nap_figure.show(), synced_time]))"
   ]
  },
  {
   "cell_type": "code",
   "execution_count": 14,
   "id": "b85e77f2-14b0-4d7c-860f-197ac213dc87",
   "metadata": {},
   "outputs": [],
   "source": [
    "# manually set the vmin/vmax of the calcium data\n",
    "nap_figure[\"raw\"][\"raw_frame\"].vmax = 205\n",
    "nap_figure[\"raw\"][\"raw_frame\"].vmin = 25"
   ]
  },
  {
   "cell_type": "markdown",
   "id": "de735f84-f8e6-4a28-9e83-817ab149cf33",
   "metadata": {},
   "source": [
    "#### Calculate the spatial contours and overlay them on the raw calcium data"
   ]
  },
  {
   "cell_type": "code",
   "execution_count": 15,
   "id": "8e8408cc-da72-4bdb-a3c2-8668dfaf2ef8",
   "metadata": {},
   "outputs": [],
   "source": [
    "# get the masks\n",
    "contour_masks = data.nwb.processing['ophys']['ImageSegmentation']['PlaneSegmentation']['image_mask'].data[:]\n",
    "# reshape the masks into a list of 105 components\n",
    "contour_masks = list(contour_masks.reshape((len(contour_masks), 166, 136)))"
   ]
  },
  {
   "cell_type": "code",
   "execution_count": 16,
   "id": "a809353a-cd85-4acd-99a5-2dfc4d7fb8e8",
   "metadata": {},
   "outputs": [],
   "source": [
    "# calculate each contour from the mask using `scikit-image.measure`\n",
    "contours = list()\n",
    "\n",
    "for mask in contour_masks:\n",
    "    contours.append(np.vstack(measure.find_contours(mask)))"
   ]
  },
  {
   "cell_type": "markdown",
   "id": "274746a1-d8a7-48f4-971a-cd94d2ba1f26",
   "metadata": {},
   "source": [
    "#### Add the calculated contours as an overlay to the calcium video"
   ]
  },
  {
   "cell_type": "code",
   "execution_count": 17,
   "id": "57bb7592-7996-469e-accd-bc57927dbf0e",
   "metadata": {},
   "outputs": [],
   "source": [
    "contours_graphic = nap_figure[\"raw\"].add_line_collection(data=contours, colors=\"w\")"
   ]
  },
  {
   "cell_type": "markdown",
   "id": "4e17db12-695c-4d75-ab9d-9cd898961fb3",
   "metadata": {},
   "source": [
    "**It is very easy to see that many of the identified neurons may be \"bad\" candidates. Let's remove them from the dataset as we go on in our anaylsis.**"
   ]
  },
  {
   "cell_type": "markdown",
   "id": "b98007c3-4945-4fed-9309-aa67661d783a",
   "metadata": {},
   "source": [
    "### Select only head-direction neurons"
   ]
  },
  {
   "cell_type": "code",
   "execution_count": 18,
   "id": "7a2ee68e-3ed7-467c-ba6c-d0ac051df380",
   "metadata": {},
   "outputs": [
    {
     "data": {
      "text/plain": [
       "Time (s)           0        1        2        3        4  ...\n",
       "-----------  -------  -------  -------  -------  -------  -----\n",
       "0.0          0        0.43582  2.96331  0        0        ...\n",
       "0.033333     0        0.43406  2.95294  0        0        ...\n",
       "0.066667     0        0.43231  2.9426   0        0        ...\n",
       "0.1          0        0.43057  2.93231  0        0        ...\n",
       "0.133333     0        0.42883  2.92205  0        0        ...\n",
       "0.166667     0        0.4271   2.91182  0        0        ...\n",
       "0.2          0        0.42537  2.90163  0        0        ...\n",
       "...\n",
       "1192.166667  2.54202  0.14531  0.44013  0.5681   0.65477  ...\n",
       "1192.2       2.53029  0.14775  0.43842  0.56657  0.65227  ...\n",
       "1192.233333  2.51861  0.14962  0.43671  0.56505  0.64979  ...\n",
       "1192.266667  2.50698  0.15104  0.435    0.56354  0.64731  ...\n",
       "1192.3       2.49541  0.15209  0.43331  0.56202  0.64485  ...\n",
       "1192.333333  2.48389  0.15283  0.43162  0.58476  0.64239  ...\n",
       "1192.366667  2.47242  0.15333  0.42994  0.62802  0.63994  ...\n",
       "dtype: float64, shape: (35772, 105)"
      ]
     },
     "execution_count": 18,
     "metadata": {},
     "output_type": "execute_result"
    }
   ],
   "source": [
    "# get the temporal data (calcium transients) from the nwb notebook\n",
    "temporal_data = data[\"RoiResponseSeries\"][:]\n",
    "temporal_data"
   ]
  },
  {
   "cell_type": "code",
   "execution_count": 19,
   "id": "7b7a10cc-fe5c-41e7-87d5-29dcb2f522b4",
   "metadata": {},
   "outputs": [],
   "source": [
    "# compute 1D tuning curved based on head angle\n",
    "head_angle = data[\"ry\"]\n",
    "\n",
    "tuning_curves = nap.compute_1d_tuning_curves_continuous(temporal_data, head_angle, nb_bins = 120)"
   ]
  },
  {
   "cell_type": "markdown",
   "id": "78bef342-87bb-4d94-9a82-396c87abbb01",
   "metadata": {},
   "source": [
    "#### Select the top 50 components "
   ]
  },
  {
   "cell_type": "code",
   "execution_count": 20,
   "id": "5b654537-f5f4-4117-b53b-a8f023428cda",
   "metadata": {},
   "outputs": [],
   "source": [
    "# select good components \n",
    "good_ixs = list(np.argsort(np.ptp(tuning_curves, axis=0))[-50:])\n",
    "bad_ixs = list(np.argsort(np.ptp(tuning_curves, axis=0))[:-50])"
   ]
  },
  {
   "cell_type": "markdown",
   "id": "ef877a32-64c5-4d6f-885d-8cdee460eb4e",
   "metadata": {},
   "source": [
    "#### Color the \"good\" and \"bad\" components"
   ]
  },
  {
   "cell_type": "code",
   "execution_count": 21,
   "id": "5da1a757-ea92-4ba7-957f-d822d3d9a5a2",
   "metadata": {},
   "outputs": [],
   "source": [
    "contours_graphic[good_ixs].colors = \"green\"\n",
    "contours_graphic[bad_ixs].colors = \"red\""
   ]
  },
  {
   "cell_type": "markdown",
   "id": "f763b64c-5695-46b8-be72-aa0eea01f165",
   "metadata": {},
   "source": [
    "### Remove the \"bad\" neurons"
   ]
  },
  {
   "cell_type": "code",
   "execution_count": 22,
   "id": "972ce762-5173-44ca-b938-13f3f4c5b228",
   "metadata": {},
   "outputs": [],
   "source": [
    "# sorting the \"good\" neurons based on preferred directions\n",
    "sorted_ixs = tuning_curves.iloc[:,good_ixs].idxmax().sort_values().index.values"
   ]
  },
  {
   "cell_type": "code",
   "execution_count": null,
   "id": "15c65dea-d36a-4c35-9122-93b864cba235",
   "metadata": {},
   "outputs": [],
   "source": []
  },
  {
   "cell_type": "code",
   "execution_count": 23,
   "id": "d9714bbb-fde3-4d46-aebf-d42b5ed38de6",
   "metadata": {},
   "outputs": [
    {
     "data": {
      "text/plain": [
       "array([75, 34, 77, 86, 21, 16,  6,  4, 58, 44, 14, 33, 94, 98, 90, 76,  7,\n",
       "        5, 82, 28, 15, 88, 45, 39,  0,  8, 20, 13, 24, 60, 18, 27, 10, 78,\n",
       "        2, 85,  3, 19, 38, 17, 30, 29, 25, 84, 12, 26, 41,  9, 11,  1])"
      ]
     },
     "execution_count": 23,
     "metadata": {},
     "output_type": "execute_result"
    }
   ],
   "source": [
    "sorted_ixs"
   ]
  },
  {
   "cell_type": "code",
   "execution_count": 24,
   "id": "b8ab6db5-6f1d-43e4-bad4-49922a50c298",
   "metadata": {},
   "outputs": [],
   "source": [
    "# filter dataset based on sortex indices\n",
    "temporal_data = temporal_data[:,sorted_ixs]\n",
    "contours = [contours[i] for i in sorted_ixs]"
   ]
  },
  {
   "cell_type": "markdown",
   "id": "025ee383-7132-44a0-96be-0f9833d84b86",
   "metadata": {},
   "source": [
    "### Plot only the \"good\" components"
   ]
  },
  {
   "cell_type": "code",
   "execution_count": 25,
   "id": "823940d0-76d1-4e72-89ab-389d3b0fa9ce",
   "metadata": {},
   "outputs": [],
   "source": [
    "# only plot the good indices \n",
    "nap_figure[0,0].remove_graphic(contours_graphic)\n",
    "contours_graphic = nap_figure[0,0].add_line_collection(data=contours, colors=\"w\")"
   ]
  },
  {
   "cell_type": "markdown",
   "id": "2ddd8810-2fc9-49fc-9d59-283f2d9918fc",
   "metadata": {},
   "source": [
    "## Make a plot of the calcium traces as a `LineStack`"
   ]
  },
  {
   "cell_type": "code",
   "execution_count": 124,
   "id": "2609b04d-f1c0-4b8d-ac1c-b6f7396d9801",
   "metadata": {},
   "outputs": [
    {
     "data": {
      "application/vnd.jupyter.widget-view+json": {
       "model_id": "166ae6cf2bfe4d6bbf08d3c423eb84f8",
       "version_major": 2,
       "version_minor": 0
      },
      "text/plain": [
       "RFBOutputContext()"
      ]
     },
     "metadata": {},
     "output_type": "display_data"
    }
   ],
   "source": [
    "# create a figure\n",
    "tstack_fig = fpl.Figure(shape=(2,1))"
   ]
  },
  {
   "cell_type": "code",
   "execution_count": 125,
   "id": "18565a01-148c-4a66-a951-b8b6b6722419",
   "metadata": {},
   "outputs": [],
   "source": [
    "# we need to transpose our temporal data so that it is (# components, time (s))\n",
    "raw_temporal = temporal_data.to_numpy().T\n",
    "\n",
    "# use 'hsv' colormap to represent preferred head direction \n",
    "tstack_graphic = tstack_fig[0,0].add_line_stack(data=raw_temporal, cmap=\"hsv\", name=\"temporal-stack\")"
   ]
  },
  {
   "cell_type": "markdown",
   "id": "baad6d2b-f5ac-45df-b5da-04ecc49acb8a",
   "metadata": {},
   "source": [
    "#### Add a `LinearSelector` that we can map to our behavior and calcium videos"
   ]
  },
  {
   "cell_type": "code",
   "execution_count": 126,
   "id": "bdd215ac-2f9b-4a6d-b36a-9bfba0919786",
   "metadata": {},
   "outputs": [],
   "source": [
    "tstack_selector = tstack_graphic.add_linear_selector()"
   ]
  },
  {
   "cell_type": "code",
   "execution_count": 127,
   "id": "aad4da44-e0aa-44e3-abbb-01aad2c142b5",
   "metadata": {},
   "outputs": [
    {
     "ename": "NameError",
     "evalue": "name 'time_store' is not defined",
     "output_type": "error",
     "traceback": [
      "\u001b[0;31m---------------------------------------------------------------------------\u001b[0m",
      "\u001b[0;31mNameError\u001b[0m                                 Traceback (most recent call last)",
      "Cell \u001b[0;32mIn[127], line 2\u001b[0m\n\u001b[1;32m      1\u001b[0m \u001b[38;5;66;03m# subscribe selector to timestore\u001b[39;00m\n\u001b[0;32m----> 2\u001b[0m \u001b[43mtime_store\u001b[49m\u001b[38;5;241m.\u001b[39msubscribe(tstack_selector, temporal_data\u001b[38;5;241m.\u001b[39mrate)\n",
      "\u001b[0;31mNameError\u001b[0m: name 'time_store' is not defined"
     ]
    }
   ],
   "source": [
    "# subscribe selector to timestore\n",
    "time_store.subscribe(tstack_selector, temporal_data.rate)"
   ]
  },
  {
   "cell_type": "markdown",
   "id": "bc000b09-0b2d-4274-866a-609840189f32",
   "metadata": {},
   "source": [
    "#### Let's view everything together"
   ]
  },
  {
   "cell_type": "code",
   "execution_count": 128,
   "id": "2a4b7bcc-096e-4b70-bbdb-448be1b33c7c",
   "metadata": {},
   "outputs": [],
   "source": [
    "sc = Sidecar()\n",
    "\n",
    "with sc:\n",
    "    display(VBox([nap_figure.show(), tstack_fig.show(maintain_aspect=False), synced_time]))"
   ]
  },
  {
   "cell_type": "code",
   "execution_count": 129,
   "id": "183b52a9-c00c-430a-8760-da49e9719448",
   "metadata": {},
   "outputs": [],
   "source": [
    "# initialize the conditions"
   ]
  },
  {
   "cell_type": "code",
   "execution_count": 130,
   "id": "646922ae-2c4c-448f-9e23-37ae284ee4c9",
   "metadata": {},
   "outputs": [],
   "source": [
    "ix = 0\n",
    "\n",
    "tstack_graphic[selected_ix].colors = \"w\"\n",
    "\n",
    "contours_graphic[selected_ix].colors = \"magenta\"\n",
    "\n",
    "tuning_ix = sorted_ixs[ix]\n",
    "\n",
    "tuning_curve = tuning_curves.T.iloc[tuning_ix]\n",
    "\n",
    "tuning_graphic = tstack_fig[1,0].add_line(data=tuning_curve, offset=(0,0,0))"
   ]
  },
  {
   "cell_type": "code",
   "execution_count": 131,
   "id": "763ee717-7fe8-441a-a5b5-bca68ef50796",
   "metadata": {},
   "outputs": [],
   "source": [
    "# add an event handler that allows tabbing up and down traces\n",
    "@tstack_fig.renderer.add_event_handler(\"key_up\")\n",
    "def update_selected_trace(ev):\n",
    "    global ix\n",
    "    if ev.key == \"ArrowUp\":\n",
    "        # increment ix\n",
    "        ix += 1\n",
    "        # check for looping\n",
    "        if ix == len(tstack_graphic.graphics):\n",
    "            ix = 0\n",
    "    if ev.key == \"ArrowDown\":\n",
    "        # decrement ix\n",
    "        ix -= 1\n",
    "        # check for looping\n",
    "        if ix < 0:\n",
    "            ix = len(tstack_graphic) - 1\n",
    "            \n",
    "    # update colors of selected component\n",
    "    contours_graphic.colors = \"w\"\n",
    "    \n",
    "    contours_graphic[ix].colors = \"magenta\"\n",
    "\n",
    "    # reset the cmap to hsv\n",
    "    tstack_graphic.cmap = \"hsv\"\n",
    "    # update colors of selected component\n",
    "    tstack_graphic[ix].colors = \"w\"\n",
    "\n",
    "    # get tuning curve and updated\n",
    "    tuning_ix = sorted_ixs[ix]\n",
    "\n",
    "    tuning_curve = tuning_curves.T.iloc[tuning_ix]\n",
    "\n",
    "    global tuning_graphic\n",
    "    tstack_fig[1,0].remove_graphic(tuning_graphic)\n",
    "\n",
    "    tuning_graphic = tstack_fig[1,0].add_line(data=tuning_curve, offset=(0,0,0))"
   ]
  },
  {
   "cell_type": "code",
   "execution_count": null,
   "id": "adb0b863-9e4a-4c98-a922-28f27b67ed43",
   "metadata": {},
   "outputs": [],
   "source": []
  },
  {
   "cell_type": "code",
   "execution_count": null,
   "id": "71e0f356-d963-46c7-a33e-a653bc57b581",
   "metadata": {},
   "outputs": [],
   "source": []
  },
  {
   "cell_type": "code",
   "execution_count": 31,
   "id": "fda0d35f-02aa-40e3-9ffc-d8cd3aa8dafb",
   "metadata": {},
   "outputs": [],
   "source": [
    "# @nap_figure.renderer.add_event_handler(\"click\")\n",
    "# def click_contour(ev):\n",
    "#     # reset the contours colors to white\n",
    "#     contours_graphic.colors = \"w\"\n",
    "\n",
    "#     # get the xy position of the click in world space\n",
    "#     xy = nap_figure[0,0].map_screen_to_world((ev.x, ev.y))[:-1]\n",
    "\n",
    "#     # calculate the nearest contour\n",
    "#     nearest = nap_figure[0,0].get_nearest_graphics(tuple(xy), method=\"center\", subset=contours_graphic)\n",
    "\n",
    "#     # set the nearest contour color to magenta\n",
    "#     nearest[0].colors = \"m\"\n",
    "\n",
    "#     # reset the traces stack colors to \"hsv\"\n",
    "#     tstack_graphic.cmap = \"hsv\"\n",
    "\n",
    "#     # find index of selected component \n",
    "#     ix = np.where(contours_graphic.graphics == nearest[0])[0][0]\n",
    "\n",
    "#     # set corresponding index in temporal stack graphic to white\n",
    "#     tstack_graphic.graphics[ix].colors = \"w\""
   ]
  }
 ],
 "metadata": {
  "kernelspec": {
   "display_name": "Python 3 (ipykernel)",
   "language": "python",
   "name": "python3"
  },
  "language_info": {
   "codemirror_mode": {
    "name": "ipython",
    "version": 3
   },
   "file_extension": ".py",
   "mimetype": "text/x-python",
   "name": "python",
   "nbconvert_exporter": "python",
   "pygments_lexer": "ipython3",
   "version": "3.11.9"
  }
 },
 "nbformat": 4,
 "nbformat_minor": 5
}
