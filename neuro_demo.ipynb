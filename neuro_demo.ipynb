{
 "cells": [
  {
   "cell_type": "markdown",
   "id": "1f56fce4-bfa1-412c-89fb-8ff4d347e1df",
   "metadata": {},
   "source": [
    "# Neuroscience using `fastplotlib` and `pynapple`"
   ]
  },
  {
   "cell_type": "markdown",
   "id": "1ae96ab1-8885-4cb3-a955-916da0631798",
   "metadata": {},
   "source": [
    "This notebook will build up a complex visualization using `fastplotlib`, in conjunction with other Python neuroscience packages, to show how `fastplotlib` can be a powerful tool in analysis and visualization of neural data!"
   ]
  },
  {
   "cell_type": "code",
   "execution_count": 1,
   "id": "39f565c2-2bcf-44f9-89c2-db06c6202e74",
   "metadata": {},
   "outputs": [],
   "source": [
    "import warnings\n",
    "warnings.simplefilter('ignore')"
   ]
  },
  {
   "cell_type": "code",
   "execution_count": 2,
   "id": "99751d32-4ec7-4555-ab6d-b2926ba0f27b",
   "metadata": {},
   "outputs": [
    {
     "data": {
      "application/vnd.jupyter.widget-view+json": {
       "model_id": "ebe52678f75047fd9e7293fde28f6426",
       "version_major": 2,
       "version_minor": 0
      },
      "text/plain": [
       "Image(value=b'\\x89PNG\\r\\n\\x1a\\n\\x00\\x00\\x00\\rIHDR\\x00\\x00\\x01,\\x00\\x00\\x007\\x08\\x06\\x00\\x00\\x00\\xb6\\x1bw\\x99\\x…"
      ]
     },
     "metadata": {},
     "output_type": "display_data"
    },
    {
     "name": "stderr",
     "output_type": "stream",
     "text": [
      "Detected skylake derivative running on mesa i915. Clears to srgb textures will use manual shader clears.\n",
      "Detected skylake derivative running on mesa i915. Clears to srgb textures will use manual shader clears.\n",
      "Detected skylake derivative running on mesa i915. Clears to srgb textures will use manual shader clears.\n",
      "Detected skylake derivative running on mesa i915. Clears to srgb textures will use manual shader clears.\n",
      "Detected skylake derivative running on mesa i915. Clears to srgb textures will use manual shader clears.\n"
     ]
    },
    {
     "name": "stdout",
     "output_type": "stream",
     "text": [
      "Available devices:\n",
      "✅ (default) | NVIDIA GeForce RTX 4060 Laptop GPU | DiscreteGPU | Vulkan | 550.78\n",
      "❗ | Mesa Intel(R) Arc(tm) Graphics (MTL) | IntegratedGPU | OpenGL | \n"
     ]
    }
   ],
   "source": [
    "import fastplotlib as fpl\n",
    "import pynapple as nap\n",
    "import numpy as np\n",
    "from ipywidgets import IntSlider, Layout, VBox"
   ]
  },
  {
   "cell_type": "markdown",
   "id": "7ca263fa-c81a-4d01-858c-f47e4df567df",
   "metadata": {},
   "source": [
    "## Load the data "
   ]
  },
  {
   "cell_type": "code",
   "execution_count": 3,
   "id": "d615ea13-18ec-47a0-8e46-caa71c23b3d2",
   "metadata": {},
   "outputs": [],
   "source": [
    "data = nap.load_file(\"./data.nwb\")"
   ]
  },
  {
   "cell_type": "code",
   "execution_count": 4,
   "id": "41a3eabe-c5f9-42dc-9bee-f54d700a01da",
   "metadata": {},
   "outputs": [
    {
     "data": {
      "text/plain": [
       "data\n",
       "┍━━━━━━━━━━━━━━━━━━━━━━━┯━━━━━━━━━━━━━┑\n",
       "│ Keys                  │ Type        │\n",
       "┝━━━━━━━━━━━━━━━━━━━━━━━┿━━━━━━━━━━━━━┥\n",
       "│ position_time_support │ IntervalSet │\n",
       "│ RoiResponseSeries     │ TsdFrame    │\n",
       "│ calcium_video         │ TsdTensor   │\n",
       "│ beh_video             │ TsdTensor   │\n",
       "│ z                     │ Tsd         │\n",
       "│ y                     │ Tsd         │\n",
       "│ x                     │ Tsd         │\n",
       "│ rz                    │ Tsd         │\n",
       "│ ry                    │ Tsd         │\n",
       "│ rx                    │ Tsd         │\n",
       "┕━━━━━━━━━━━━━━━━━━━━━━━┷━━━━━━━━━━━━━┙"
      ]
     },
     "execution_count": 4,
     "metadata": {},
     "output_type": "execute_result"
    }
   ],
   "source": [
    "data"
   ]
  },
  {
   "cell_type": "markdown",
   "id": "f8e6f965-599b-4c70-a16d-aeb1737d5a60",
   "metadata": {},
   "source": [
    "### Let's view the behavior and calcium data"
   ]
  },
  {
   "cell_type": "markdown",
   "id": "be7e1aaa-3ab4-45c3-ae71-634a03699d2f",
   "metadata": {},
   "source": [
    "**Because the recording framerates of the behavior and calcium data are different, we need to synchronize them manually.**\n",
    "\n",
    "Hopefully, by the end of the summer we will have developed a tool ([`pynaviz`](https://github.com/pynapple-org/pynaviz)) that makes these visualizations and synchronizations even easier :D"
   ]
  },
  {
   "cell_type": "code",
   "execution_count": 5,
   "id": "30532af5-d92b-414a-a7f7-2ee38d98e17e",
   "metadata": {},
   "outputs": [
    {
     "data": {
      "text/plain": [
       "(9045, 204, 256)"
      ]
     },
     "execution_count": 5,
     "metadata": {},
     "output_type": "execute_result"
    }
   ],
   "source": [
    "# behavior shape\n",
    "behavior_data = data[\"beh_video\"]\n",
    "behavior_data.shape"
   ]
  },
  {
   "cell_type": "code",
   "execution_count": 6,
   "id": "c318349d-4987-461d-8851-a1fe8b6ef2b8",
   "metadata": {},
   "outputs": [
    {
     "data": {
      "text/plain": [
       "(17886, 136, 166)"
      ]
     },
     "execution_count": 6,
     "metadata": {},
     "output_type": "execute_result"
    }
   ],
   "source": [
    "# calcium shape\n",
    "calcium_data = data[\"calcium_video\"]\n",
    "calcium_data.shape"
   ]
  },
  {
   "cell_type": "markdown",
   "id": "178f7536-9c4f-478e-b3ae-dcb417a1810d",
   "metadata": {},
   "source": [
    "#### Recording Frame Rates:"
   ]
  },
  {
   "cell_type": "code",
   "execution_count": 7,
   "id": "9032090c-ceed-4572-b483-fdd9f0ee6eb7",
   "metadata": {},
   "outputs": [],
   "source": [
    "behavior_fr = 7.5\n",
    "calcium_fr = 15"
   ]
  },
  {
   "cell_type": "code",
   "execution_count": 8,
   "id": "a868b560-4b31-48eb-b37f-82b7959b5c03",
   "metadata": {},
   "outputs": [],
   "source": [
    "# making a timestamp for the behavioral video\n",
    "t_behavior = np.linspace(0, behavior_data.shape[0] / behavior_fr, behavior_data.shape[0])"
   ]
  },
  {
   "cell_type": "code",
   "execution_count": 9,
   "id": "c416002f-31fa-4657-8dd9-95c5b8111655",
   "metadata": {},
   "outputs": [
    {
     "data": {
      "text/plain": [
       "(9045,)"
      ]
     },
     "execution_count": 9,
     "metadata": {},
     "output_type": "execute_result"
    }
   ],
   "source": [
    "t_behavior.shape"
   ]
  },
  {
   "cell_type": "code",
   "execution_count": 10,
   "id": "c11b259e-2533-4b59-844f-a6f374805fe4",
   "metadata": {},
   "outputs": [
    {
     "data": {
      "text/plain": [
       "1206.0"
      ]
     },
     "execution_count": 10,
     "metadata": {},
     "output_type": "execute_result"
    }
   ],
   "source": [
    "t_behavior[-1]"
   ]
  },
  {
   "cell_type": "markdown",
   "id": "e53cbfc8-1cd7-49a8-80e9-09913e491f25",
   "metadata": {},
   "source": [
    "#### Use `pynapple` to create an indexable tensor of our behavioral data"
   ]
  },
  {
   "cell_type": "code",
   "execution_count": 11,
   "id": "9059b0e6-e4ab-4591-95f8-abc4d1e16c7b",
   "metadata": {},
   "outputs": [],
   "source": [
    "tsd_video = nap.TsdTensor(t_behavior, behavior_data.data())"
   ]
  },
  {
   "cell_type": "code",
   "execution_count": 12,
   "id": "e2456f03-a432-4ee9-a239-7ad27bff4375",
   "metadata": {},
   "outputs": [
    {
     "data": {
      "text/plain": [
       "Time (s)\n",
       "--------------  -----------------\n",
       "0.0             [[35 ... 44] ...]\n",
       "0.133348076     [[35 ... 44] ...]\n",
       "0.266696152     [[35 ... 44] ...]\n",
       "0.400044228     [[35 ... 44] ...]\n",
       "0.533392304     [[35 ... 44] ...]\n",
       "0.66674038      [[35 ... 44] ...]\n",
       "0.800088456     [[35 ... 44] ...]\n",
       "...\n",
       "1205.199911544  [[35 ... 44] ...]\n",
       "1205.33325962   [[35 ... 45] ...]\n",
       "1205.466607696  [[35 ... 45] ...]\n",
       "1205.599955772  [[35 ... 44] ...]\n",
       "1205.733303848  [[35 ... 44] ...]\n",
       "1205.866651924  [[35 ... 45] ...]\n",
       "1206.0          [[35 ... 44] ...]\n",
       "dtype: uint8, shape: (9045, 204, 256)"
      ]
     },
     "execution_count": 12,
     "metadata": {},
     "output_type": "execute_result"
    }
   ],
   "source": [
    "# all of our time points and corresponding behavior frames mapped\n",
    "tsd_video"
   ]
  },
  {
   "cell_type": "markdown",
   "id": "ba0307fa-4e7b-48a5-9b5d-2306117b1c9e",
   "metadata": {},
   "source": [
    "#### Do the same for our calcium data"
   ]
  },
  {
   "cell_type": "code",
   "execution_count": 13,
   "id": "4901e824-143c-47a0-ba25-173727c6f8ad",
   "metadata": {},
   "outputs": [],
   "source": [
    "# making a timestamp for the calcium video\n",
    "t_calcium = np.linspace(0, calcium_data.shape[0] / calcium_fr, calcium_data.shape[0])"
   ]
  },
  {
   "cell_type": "code",
   "execution_count": 14,
   "id": "32d3835b-558c-44ac-9f01-84e10a59540f",
   "metadata": {},
   "outputs": [
    {
     "data": {
      "text/plain": [
       "(17886,)"
      ]
     },
     "execution_count": 14,
     "metadata": {},
     "output_type": "execute_result"
    }
   ],
   "source": [
    "t_calcium.shape"
   ]
  },
  {
   "cell_type": "code",
   "execution_count": 15,
   "id": "2d9b4ce2-9388-4fc9-b887-445735365e62",
   "metadata": {},
   "outputs": [
    {
     "data": {
      "text/plain": [
       "1192.4"
      ]
     },
     "execution_count": 15,
     "metadata": {},
     "output_type": "execute_result"
    }
   ],
   "source": [
    "t_calcium[-1]"
   ]
  },
  {
   "cell_type": "markdown",
   "id": "a366b79d-e251-4b15-8dc9-5b1419db4e58",
   "metadata": {},
   "source": [
    "#### Use `pynapple` to create an indexable tensor of our behavioral data"
   ]
  },
  {
   "cell_type": "code",
   "execution_count": 16,
   "id": "4138be05-7904-4902-992d-b2bafbd34ee0",
   "metadata": {},
   "outputs": [],
   "source": [
    "tsd_calcium = nap.TsdTensor(t_calcium, calcium_data.data())"
   ]
  },
  {
   "cell_type": "code",
   "execution_count": 17,
   "id": "754a798f-5cb2-46d1-bc8d-6efda5b30f27",
   "metadata": {},
   "outputs": [
    {
     "data": {
      "text/plain": [
       "Time (s)\n",
       "--------------  -----------------\n",
       "0.0             [[25 ... 28] ...]\n",
       "0.066670394     [[27 ... 28] ...]\n",
       "0.133340788     [[25 ... 28] ...]\n",
       "0.200011183     [[26 ... 27] ...]\n",
       "0.266681577     [[26 ... 28] ...]\n",
       "0.333351971     [[26 ... 28] ...]\n",
       "0.400022365     [[26 ... 30] ...]\n",
       "...\n",
       "1191.999977635  [[28 ... 32] ...]\n",
       "1192.066648029  [[25 ... 28] ...]\n",
       "1192.133318423  [[30 ... 33] ...]\n",
       "1192.199988817  [[25 ... 27] ...]\n",
       "1192.266659212  [[28 ... 30] ...]\n",
       "1192.333329606  [[26 ... 31] ...]\n",
       "1192.4          [[29 ... 29] ...]\n",
       "dtype: uint8, shape: (17886, 136, 166)"
      ]
     },
     "execution_count": 17,
     "metadata": {},
     "output_type": "execute_result"
    }
   ],
   "source": [
    "# all of our time points and corresponding behavior frames mapped\n",
    "tsd_calcium"
   ]
  },
  {
   "cell_type": "markdown",
   "id": "f033e35d-a876-44d0-80bb-fda55d65f3dc",
   "metadata": {},
   "source": [
    "#### Create a plot for calcium and behavior video"
   ]
  },
  {
   "cell_type": "code",
   "execution_count": 18,
   "id": "2426251c-8fbf-4e6f-99a6-29a6e36720c8",
   "metadata": {},
   "outputs": [
    {
     "data": {
      "application/vnd.jupyter.widget-view+json": {
       "model_id": "76132c1fbc4e44be80889dfbed75f7ea",
       "version_major": 2,
       "version_minor": 0
      },
      "text/plain": [
       "RFBOutputContext()"
      ]
     },
     "metadata": {},
     "output_type": "display_data"
    },
    {
     "name": "stderr",
     "output_type": "stream",
     "text": [
      "Detected skylake derivative running on mesa i915. Clears to srgb textures will use manual shader clears.\n"
     ]
    },
    {
     "data": {
      "text/plain": [
       "<weakproxy at 0x7d5e99d1b560 to ImageGraphic at 0x7d5eaa5e2ed0>"
      ]
     },
     "execution_count": 18,
     "metadata": {},
     "output_type": "execute_result"
    }
   ],
   "source": [
    "nap_figure = fpl.Figure(shape=(1,2), names=[[\"raw\", \"behavior\"]])\n",
    "\n",
    "nap_figure[\"raw\"].add_image(data=tsd_calcium[0], name=\"raw_frame\")\n",
    "nap_figure[\"behavior\"].add_image(data=tsd_video[0], cmap=\"gray\")"
   ]
  },
  {
   "cell_type": "markdown",
   "id": "1f5c4e78-868c-4e01-aa8b-9ddd8ab81733",
   "metadata": {},
   "source": [
    "#### Create a slider that updates behavior and calcium data so they are aligned"
   ]
  },
  {
   "cell_type": "code",
   "execution_count": 19,
   "id": "bf762a1c-1d15-4bef-82ef-218872c5208f",
   "metadata": {},
   "outputs": [],
   "source": [
    "# This time will be in milliseconds\n",
    "synced_time = IntSlider(min=0, max=63*19 * 1_000, description=\"ms\", layout=Layout(width=\"500\"))\n",
    "\n",
    "def update_time(change):\n",
    "    # get the index of synced slider\n",
    "    time_ms = change[\"new\"]\n",
    "    # get the corresponding calcium frame from the pynapple tensor\n",
    "    frame_raw = tsd_calcium.get(time_ms, time_units=\"ms\")\n",
    "    # update the data in the plot\n",
    "    nap_figure[\"raw\"].graphics[0].data = frame_raw\n",
    "    # get the corresponding behavior frame from the pynapple tensor\n",
    "    frame_behavior = tsd_video.get(time_ms, time_units=\"ms\")\n",
    "    # update the data in the plot\n",
    "    nap_figure[\"behavior\"].graphics[0].data = frame_behavior\n",
    "\n",
    "synced_time.observe(update_time, \"value\")"
   ]
  },
  {
   "cell_type": "code",
   "execution_count": 21,
   "id": "77093a63-f1e2-4861-be23-7431ad09cd3d",
   "metadata": {},
   "outputs": [
    {
     "data": {
      "application/vnd.jupyter.widget-view+json": {
       "model_id": "9497debfb58e4def9d7ee5fa4964b3be",
       "version_major": 2,
       "version_minor": 0
      },
      "text/plain": [
       "VBox(children=(JupyterOutputContext(children=(JupyterWgpuCanvas(frame_feedback={'index': 100, 'timestamp': 171…"
      ]
     },
     "execution_count": 21,
     "metadata": {},
     "output_type": "execute_result"
    }
   ],
   "source": [
    "VBox([nap_figure.show(), synced_time])"
   ]
  },
  {
   "cell_type": "code",
   "execution_count": 22,
   "id": "2609b04d-f1c0-4b8d-ac1c-b6f7396d9801",
   "metadata": {},
   "outputs": [
    {
     "data": {
      "application/vnd.jupyter.widget-view+json": {
       "model_id": "1e87f9d83e194de18b5924e4855ddb18",
       "version_major": 2,
       "version_minor": 0
      },
      "text/plain": [
       "RFBOutputContext()"
      ]
     },
     "metadata": {},
     "output_type": "display_data"
    }
   ],
   "source": [
    "fig = fpl.Figure()"
   ]
  },
  {
   "cell_type": "code",
   "execution_count": 23,
   "id": "7a2ee68e-3ed7-467c-ba6c-d0ac051df380",
   "metadata": {},
   "outputs": [
    {
     "data": {
      "text/plain": [
       "(35772, 105)"
      ]
     },
     "execution_count": 23,
     "metadata": {},
     "output_type": "execute_result"
    }
   ],
   "source": [
    "data[\"RoiResponseSeries\"].shape"
   ]
  },
  {
   "cell_type": "code",
   "execution_count": 25,
   "id": "20d8bc8b-43d7-4aa0-9e99-c5f24197ab56",
   "metadata": {},
   "outputs": [
    {
     "data": {
      "text/plain": [
       "Time (s)           0        1        2        3        4  ...\n",
       "-----------  -------  -------  -------  -------  -------  -----\n",
       "0.0          0        0.43582  2.96331  0        0        ...\n",
       "0.033333     0        0.43406  2.95294  0        0        ...\n",
       "0.066667     0        0.43231  2.9426   0        0        ...\n",
       "0.1          0        0.43057  2.93231  0        0        ...\n",
       "0.133333     0        0.42883  2.92205  0        0        ...\n",
       "0.166667     0        0.4271   2.91182  0        0        ...\n",
       "0.2          0        0.42537  2.90163  0        0        ...\n",
       "...\n",
       "1192.166667  2.54202  0.14531  0.44013  0.5681   0.65477  ...\n",
       "1192.2       2.53029  0.14775  0.43842  0.56657  0.65227  ...\n",
       "1192.233333  2.51861  0.14962  0.43671  0.56505  0.64979  ...\n",
       "1192.266667  2.50698  0.15104  0.435    0.56354  0.64731  ...\n",
       "1192.3       2.49541  0.15209  0.43331  0.56202  0.64485  ...\n",
       "1192.333333  2.48389  0.15283  0.43162  0.58476  0.64239  ...\n",
       "1192.366667  2.47242  0.15333  0.42994  0.62802  0.63994  ...\n",
       "dtype: float64, shape: (35772, 105)"
      ]
     },
     "execution_count": 25,
     "metadata": {},
     "output_type": "execute_result"
    }
   ],
   "source": [
    "data[\"RoiResponseSeries\"]"
   ]
  },
  {
   "cell_type": "code",
   "execution_count": null,
   "id": "3a8177f7-52f5-4969-9ebd-1a595b64a8cb",
   "metadata": {},
   "outputs": [],
   "source": []
  }
 ],
 "metadata": {
  "kernelspec": {
   "display_name": "Python 3 (ipykernel)",
   "language": "python",
   "name": "python3"
  },
  "language_info": {
   "codemirror_mode": {
    "name": "ipython",
    "version": 3
   },
   "file_extension": ".py",
   "mimetype": "text/x-python",
   "name": "python",
   "nbconvert_exporter": "python",
   "pygments_lexer": "ipython3",
   "version": "3.12.3"
  }
 },
 "nbformat": 4,
 "nbformat_minor": 5
}
