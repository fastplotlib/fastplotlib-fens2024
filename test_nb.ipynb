{
 "cells": [
  {
   "cell_type": "markdown",
   "id": "63370c37-e9f6-4428-8f8d-8cdff2573f89",
   "metadata": {},
   "source": [
    "# Test notebook for `fastplotlib` install"
   ]
  },
  {
   "cell_type": "code",
   "execution_count": 4,
   "id": "42322da1-7629-4248-bb00-fcb48b3100bb",
   "metadata": {},
   "outputs": [],
   "source": [
    "import fastplotlib as fpl\n",
    "import numpy as np"
   ]
  },
  {
   "cell_type": "markdown",
   "id": "9a2c9ac3-a4e4-48f0-bc2d-41255f44c758",
   "metadata": {},
   "source": [
    "### Test `Figure` and adding different types of `Graphics`"
   ]
  },
  {
   "cell_type": "code",
   "execution_count": 16,
   "id": "d95770df-a799-45d5-9adc-4e959efdf1e7",
   "metadata": {},
   "outputs": [
    {
     "data": {
      "application/vnd.jupyter.widget-view+json": {
       "model_id": "6bb1763b6bf343088c1f20e50ee6cbdf",
       "version_major": 2,
       "version_minor": 0
      },
      "text/plain": [
       "RFBOutputContext()"
      ]
     },
     "metadata": {},
     "output_type": "display_data"
    }
   ],
   "source": [
    "fig = fpl.Figure(shape=(2,2))"
   ]
  },
  {
   "cell_type": "code",
   "execution_count": 17,
   "id": "077c2d96-2728-4f81-aa67-45efd810e91b",
   "metadata": {},
   "outputs": [],
   "source": [
    "# create some random image and line data \n",
    "img = np.random.rand(512, 512)\n",
    "\n",
    "# linspace, create 100 evenly spaced x values from -10 to 10\n",
    "xs = np.linspace(-10, 10, 100)\n",
    "# sine wave\n",
    "ys = np.sin(xs)\n",
    "sine = np.column_stack([xs, ys])\n",
    "\n",
    "# cosine wave\n",
    "ys = np.cos(xs) + 5\n",
    "cosine = np.column_stack([xs, ys])\n",
    "\n",
    "# sinc function\n",
    "a = 0.5\n",
    "ys = np.sinc(xs) * 3 + 8\n",
    "sinc = np.column_stack([xs, ys])"
   ]
  },
  {
   "cell_type": "code",
   "execution_count": 18,
   "id": "1fff4616-c209-48b4-af4c-f0eca3c08605",
   "metadata": {},
   "outputs": [],
   "source": [
    "# random scatter plot data\n",
    "n_points = 1_000\n",
    "\n",
    "# dimensions always have to be [n_points, xyz]\n",
    "dims = (n_points, 3)\n",
    "\n",
    "clouds_offset = 15\n",
    "\n",
    "# create some random clouds\n",
    "normal = np.random.normal(size=dims, scale=5)\n",
    "# stack the data into a single array\n",
    "cloud = np.vstack(\n",
    "    [\n",
    "        normal - clouds_offset,\n",
    "        normal,\n",
    "        normal + clouds_offset,\n",
    "    ]\n",
    ")\n",
    "\n",
    "# color each of them separately\n",
    "colors = [\"yellow\"] * n_points + [\"cyan\"] * n_points + [\"magenta\"] * n_points"
   ]
  },
  {
   "cell_type": "code",
   "execution_count": 19,
   "id": "57b95e6a-279d-4d4b-96d7-f1648f2f6dd8",
   "metadata": {},
   "outputs": [
    {
     "data": {
      "text/plain": [
       "<weakproxy at 0x74c722522d40 to ScatterGraphic at 0x74c718a2a990>"
      ]
     },
     "execution_count": 19,
     "metadata": {},
     "output_type": "execute_result"
    }
   ],
   "source": [
    "fig[0,0].add_image(data=img, name=\"random-img\")\n",
    "\n",
    "fig[0,1].add_line_collection(data=[sine, cosine, sinc], colors=[\"r\", \"g\", \"b\"])\n",
    "\n",
    "fig[1,0].add_scatter(data=cloud, colors=colors)"
   ]
  },
  {
   "cell_type": "code",
   "execution_count": 20,
   "id": "d8db7f62-f086-4202-b593-fdaba4c521da",
   "metadata": {},
   "outputs": [
    {
     "data": {
      "application/vnd.jupyter.widget-view+json": {
       "model_id": "41741ae66dd84799a577abf8beacedff",
       "version_major": 2,
       "version_minor": 0
      },
      "text/plain": [
       "JupyterOutputContext(children=(JupyterWgpuCanvas(), IpywidgetToolBar(children=(Button(icon='expand-arrows-alt'…"
      ]
     },
     "execution_count": 20,
     "metadata": {},
     "output_type": "execute_result"
    }
   ],
   "source": [
    "fig.show()"
   ]
  },
  {
   "cell_type": "markdown",
   "id": "208363c4-0af2-4743-bf75-6e6f054182c0",
   "metadata": {},
   "source": [
    "### Test `ImageWidget`"
   ]
  },
  {
   "cell_type": "code",
   "execution_count": 21,
   "id": "f5ec3a31-8263-45a8-8ca4-f4db02b2b7b1",
   "metadata": {},
   "outputs": [],
   "source": [
    "iw_data = np.random.rand(30, 512, 512)"
   ]
  },
  {
   "cell_type": "code",
   "execution_count": 22,
   "id": "3f1a9df8-7bbf-4f3d-9487-3d70f9c83f2e",
   "metadata": {},
   "outputs": [
    {
     "data": {
      "application/vnd.jupyter.widget-view+json": {
       "model_id": "0688aded112d4d17b7aca9d124bba461",
       "version_major": 2,
       "version_minor": 0
      },
      "text/plain": [
       "RFBOutputContext()"
      ]
     },
     "metadata": {},
     "output_type": "display_data"
    },
    {
     "name": "stderr",
     "output_type": "stream",
     "text": [
      "/home/caitlin/repos/fastplotlib/fastplotlib/graphics/_features/_base.py:34: UserWarning: converting float64 array to float32\n",
      "  warn(f\"converting {array.dtype} array to float32\")\n"
     ]
    }
   ],
   "source": [
    "iw = fpl.ImageWidget(data=iw_data, cmap=\"viridis\")"
   ]
  },
  {
   "cell_type": "code",
   "execution_count": 23,
   "id": "d9187ed1-258e-489e-b47e-4684bdb1a088",
   "metadata": {},
   "outputs": [
    {
     "data": {
      "application/vnd.jupyter.widget-view+json": {
       "model_id": "a4a5f1589c0d44788ad46334ff926be2",
       "version_major": 2,
       "version_minor": 0
      },
      "text/plain": [
       "JupyterOutputContext(children=(JupyterWgpuCanvas(), IpywidgetToolBar(children=(Button(icon='expand-arrows-alt'…"
      ]
     },
     "execution_count": 23,
     "metadata": {},
     "output_type": "execute_result"
    }
   ],
   "source": [
    "iw.show()"
   ]
  },
  {
   "cell_type": "code",
   "execution_count": null,
   "id": "e5c9a386-113e-4ed5-ae14-97531f3adc38",
   "metadata": {},
   "outputs": [],
   "source": []
  }
 ],
 "metadata": {
  "kernelspec": {
   "display_name": "Python 3 (ipykernel)",
   "language": "python",
   "name": "python3"
  },
  "language_info": {
   "codemirror_mode": {
    "name": "ipython",
    "version": 3
   },
   "file_extension": ".py",
   "mimetype": "text/x-python",
   "name": "python",
   "nbconvert_exporter": "python",
   "pygments_lexer": "ipython3",
   "version": "3.12.3"
  }
 },
 "nbformat": 4,
 "nbformat_minor": 5
}
